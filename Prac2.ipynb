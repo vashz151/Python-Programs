{
 "cells": [
  {
   "cell_type": "code",
   "execution_count": 1,
   "metadata": {},
   "outputs": [
    {
     "name": "stdout",
     "output_type": "stream",
     "text": [
      "Enter a sentence: My name is Vashisth\n",
      "My-name-is-Vashisth\n"
     ]
    }
   ],
   "source": [
    "# 1. Write a program that takes a sentence as an input parameter where each word in the sentence is separated by a space. Then replace each blank with a hyphen and then print the modified sentence.\n",
    "st=input(\"Enter a sentence: \")\n",
    "rep=st.replace(\" \",\"-\")\n",
    "print(rep)"
   ]
  },
  {
   "cell_type": "code",
   "execution_count": 3,
   "metadata": {},
   "outputs": [
    {
     "name": "stdout",
     "output_type": "stream",
     "text": [
      "Enter a string:Malayalam\n",
      "Palindrone\n"
     ]
    }
   ],
   "source": [
    "# 2. WAPP to test whether string is palindrome or not\n",
    "string=input(\"Enter a string:\")\n",
    "string=string.lower()\n",
    "rev=string[::-1]\n",
    "if(rev==string):\n",
    "    print(\"Palindrone\")\n",
    "else:\n",
    "    print(\"Not a palindrone\")"
   ]
  },
  {
   "cell_type": "code",
   "execution_count": 4,
   "metadata": {},
   "outputs": [
    {
     "name": "stdout",
     "output_type": "stream",
     "text": [
      "Enter a sentenceall the best\n",
      "All The Best\n"
     ]
    }
   ],
   "source": [
    "# 3. WAP to capitalize the first character of each words from a given sentence (example: all the best All The Best)\n",
    "string=input(\"Enter a sentence\")\n",
    "print(string.title())"
   ]
  },
  {
   "cell_type": "code",
   "execution_count": 5,
   "metadata": {},
   "outputs": [
    {
     "name": "stdout",
     "output_type": "stream",
     "text": [
      "Enter a sentence: Hello World\n",
      "Enter the character whose frequency needs to be found: l\n",
      "Frequency: 3\n"
     ]
    }
   ],
   "source": [
    "#4. WAP to count the frequency of occurrence of a given character in a given line of text\n",
    "sent=input(\"Enter a sentence: \")\n",
    "ch=input(\"Enter the character whose frequency needs to be found: \")\n",
    "print(\"Frequency:\" ,sent.count(ch))"
   ]
  },
  {
   "cell_type": "code",
   "execution_count": 7,
   "metadata": {},
   "outputs": [
    {
     "name": "stdout",
     "output_type": "stream",
     "text": [
      "{'Maharashtra': 'Mumbai', 'Gujarat': 'Gandhinagar', 'Rajasthan': 'Jaipur', 'Goa': 'Panaji'}\n",
      "{'Maharashtra': 'Mumbai', 'Gujarat': 'Gandhinagar', 'Rajasthan': 'Jaipur', 'Goa': 'Panaji', 'Tamil Nadu': 'Chennai'}\n"
     ]
    }
   ],
   "source": [
    "#5. Create a dictionary of 4 states with their capital details & add one more pair to the same\n",
    "states={\"Maharashtra\":\"Mumbai\",\"Gujarat\":\"Gandhinagar\",\"Rajasthan\":\"Jaipur\",\"Goa\":\"Panaji\"}\n",
    "print(states)\n",
    "states[\"Tamil Nadu\"]=\"Chennai\"\n",
    "print(states)"
   ]
  },
  {
   "cell_type": "code",
   "execution_count": 8,
   "metadata": {},
   "outputs": [
    {
     "name": "stdout",
     "output_type": "stream",
     "text": [
      "Enter a sentence: V@shisth 151\n",
      "Vowels=  1\n",
      "Consonants:  6\n",
      "Digits=  3\n",
      "Spaces=  1\n",
      "Special symbols=  1\n"
     ]
    }
   ],
   "source": [
    "# 6. to count number digits, special symbols from the given sentence. Also count number of vowels and consonants.\n",
    "sent=input(\"Enter a sentence: \")\n",
    "vow=0\n",
    "dig=0 \n",
    "con=0 \n",
    "spac=0 \n",
    "symb=0 \n",
    "sent=sent.lower() \n",
    "for i in sent:\n",
    "    if i=='a' or i=='e' or i=='i' or i=='o' or i=='u':\n",
    "        vow+=1\n",
    "    elif i>='a' and i<='z':\n",
    "        con+=1\n",
    "    elif i>='0' and i<='9':\n",
    "        dig+=1\n",
    "    elif i==' ':\n",
    "        spac+=1\n",
    "    else:\n",
    "        symb+=1\n",
    "print(\"Vowels= \",vow)\n",
    "print(\"Consonants: \",con)\n",
    "print(\"Digits= \",dig)\n",
    "print(\"Spaces= \",spac)\n",
    "print(\"Special symbols= \",symb)"
   ]
  },
  {
   "cell_type": "code",
   "execution_count": 9,
   "metadata": {},
   "outputs": [
    {
     "name": "stdout",
     "output_type": "stream",
     "text": [
      "Enter a string (Max Length 15)My name is Vash\n",
      "Element  1  M\n",
      "Element  2  y\n",
      "Element  3   \n",
      "Element  4  n\n",
      "Element  5  a\n",
      "Element  6  m\n",
      "Element  7  e\n",
      "Element  8   \n",
      "Element  9  i\n",
      "Element  10  s\n",
      "Element  11   \n",
      "Element  12  V\n",
      "Element  13  a\n",
      "Element  14  s\n",
      "Element  15  h\n"
     ]
    }
   ],
   "source": [
    "# 7. Write a program to accept any string up to 15 characters. Display the elements of string with their element nos\n",
    "st=input(\"Enter a string (Max Length 15)\")\n",
    "if len(st)>15:\n",
    "    print(\"Length greater than 15\")\n",
    "else:\n",
    "    for i in range(len(st)):\n",
    "        print(\"Element \",i+1,\" \"+st[i])"
   ]
  }
 ],
 "metadata": {
  "interpreter": {
   "hash": "538e13222b30e3470c21bd998694dc39240c6711018518b13b36797d0b09c580"
  },
  "kernelspec": {
   "display_name": "Python 3 (ipykernel)",
   "language": "python",
   "name": "python3"
  },
  "language_info": {
   "codemirror_mode": {
    "name": "ipython",
    "version": 3
   },
   "file_extension": ".py",
   "mimetype": "text/x-python",
   "name": "python",
   "nbconvert_exporter": "python",
   "pygments_lexer": "ipython3",
   "version": "3.10.2"
  }
 },
 "nbformat": 4,
 "nbformat_minor": 2
}
