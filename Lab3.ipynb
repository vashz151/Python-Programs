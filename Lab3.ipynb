{
 "cells": [
  {
   "cell_type": "code",
   "execution_count": 2,
   "metadata": {},
   "outputs": [
    {
     "name": "stdout",
     "output_type": "stream",
     "text": [
      "[1 2 3]\n",
      "Shape is (3,)\n",
      "Dimension is: 1\n",
      "Getting a particular element: 2\n",
      "Size is: 3\n"
     ]
    }
   ],
   "source": [
    "import numpy as np\n",
    "x = np.array([1,2,3])\n",
    "print(x)\n",
    "print(\"Shape is\",x.shape)\n",
    "print(\"Dimension is:\",x.ndim)\n",
    "print(\"Getting a particular element:\",x[1])\n",
    "print(\"Size is:\",x.size)"
   ]
  },
  {
   "cell_type": "code",
   "execution_count": 2,
   "metadata": {},
   "outputs": [
    {
     "name": "stdout",
     "output_type": "stream",
     "text": [
      "Shape is (2, 2)\n",
      "Dimension is: 2\n",
      "Getting a particular element: 4\n",
      "Size is: 4\n"
     ]
    }
   ],
   "source": [
    "x = np.array([[1,2],[3,4]])\n",
    "print(\"Shape is\",x.shape)\n",
    "print(\"Dimension is:\",x.ndim)\n",
    "print(\"Getting a particular element:\",x[1,1])\n",
    "print(\"Size is:\",x.size)"
   ]
  },
  {
   "cell_type": "code",
   "execution_count": 3,
   "metadata": {},
   "outputs": [
    {
     "name": "stdout",
     "output_type": "stream",
     "text": [
      "[[1 2 3]\n",
      " [4 5 6]]\n",
      "Shape is (2, 3)\n",
      "Dimension is: 2\n",
      "Getting a particular element: 6\n",
      "Size is: 6\n"
     ]
    }
   ],
   "source": [
    "x = np.array([[1,2,3],[4,5,6]])\n",
    "print(x)\n",
    "print(\"Shape is\",x.shape)\n",
    "print(\"Dimension is:\",x.ndim)\n",
    "print(\"Getting a particular element:\",x[1,2])\n",
    "print(\"Size is:\",x.size)"
   ]
  },
  {
   "cell_type": "code",
   "execution_count": 4,
   "metadata": {},
   "outputs": [
    {
     "name": "stdout",
     "output_type": "stream",
     "text": [
      "[[1. 1.]\n",
      " [1. 1.]\n",
      " [1. 1.]]\n"
     ]
    }
   ],
   "source": [
    "x = np.ones((3,2))\n",
    "print(x)"
   ]
  },
  {
   "cell_type": "code",
   "execution_count": 5,
   "metadata": {},
   "outputs": [
    {
     "name": "stdout",
     "output_type": "stream",
     "text": [
      "[[0. 0. 0.]\n",
      " [0. 0. 0.]\n",
      " [0. 0. 0.]]\n"
     ]
    }
   ],
   "source": [
    "x = np.zeros((3,3))\n",
    "print(x)\n"
   ]
  },
  {
   "cell_type": "code",
   "execution_count": 6,
   "metadata": {},
   "outputs": [
    {
     "name": "stdout",
     "output_type": "stream",
     "text": [
      "[[9 9]\n",
      " [9 9]]\n"
     ]
    }
   ],
   "source": [
    "x = np.full((2,2), 9)\n",
    "print(x)"
   ]
  },
  {
   "cell_type": "code",
   "execution_count": 7,
   "metadata": {},
   "outputs": [
    {
     "name": "stdout",
     "output_type": "stream",
     "text": [
      "[[0.90606378 0.22443539 0.43997127]\n",
      " [0.93704706 0.26626852 0.42427168]]\n"
     ]
    }
   ],
   "source": [
    "x = np.random.random((2,3))\n",
    "print(x)"
   ]
  },
  {
   "cell_type": "code",
   "execution_count": 8,
   "metadata": {},
   "outputs": [
    {
     "name": "stdout",
     "output_type": "stream",
     "text": [
      "[[ 1  2  3  4]\n",
      " [ 5  6  7  8]\n",
      " [ 9 10 11 12]]\n",
      "[[1 2]\n",
      " [5 6]]\n",
      "[[ 6  7  8]\n",
      " [10 11 12]]\n",
      "[[ 6  7]\n",
      " [10 11]]\n",
      "[[ 7  8]\n",
      " [11 12]]\n"
     ]
    }
   ],
   "source": [
    "h=np.array([[1,2,3,4],[5,6,7,8],[9,10,11,12]])\n",
    "print(h)\n",
    "#slicing to make it a 2x2 sub array\n",
    "i=h[:2,:2]\n",
    "j=h[1:3,1:]\n",
    "k=h[1:3,1:3]\n",
    "l=h[1:3,2:]\n",
    "print(i)\n",
    "print(j)\n",
    "print(k)\n",
    "print(l)"
   ]
  },
  {
   "cell_type": "code",
   "execution_count": 9,
   "metadata": {},
   "outputs": [
    {
     "name": "stdout",
     "output_type": "stream",
     "text": [
      "2\n",
      "[[10000     2     3     4]\n",
      " [    5     6     7     8]\n",
      " [    9    10    11    12]]\n",
      "[[10000     2]\n",
      " [    5     6]]\n"
     ]
    }
   ],
   "source": [
    "print(h[0,1])\n",
    "i[0,0]=10000 #changing 0th row 0th col\n",
    "print(h) #base object also changed\n",
    "print(i)"
   ]
  },
  {
   "cell_type": "code",
   "execution_count": 6,
   "metadata": {},
   "outputs": [
    {
     "name": "stdout",
     "output_type": "stream",
     "text": [
      "<class 'numpy.ndarray'>\n",
      "[ 3 45 31  6]\n"
     ]
    }
   ],
   "source": [
    "l = [2,45,31,6]\n",
    "x = np.array(l, dtype = int)\n",
    "print(type(x))\n",
    "print(x)"
   ]
  },
  {
   "cell_type": "code",
   "execution_count": 8,
   "metadata": {},
   "outputs": [
    {
     "name": "stdout",
     "output_type": "stream",
     "text": [
      "[ 0  1  2  3  4  5  6  7  8  9 10 11 12 13 14 15]\n",
      "[[ 0  1  2  3]\n",
      " [ 4  5  6  7]\n",
      " [ 8  9 10 11]\n",
      " [12 13 14 15]]\n"
     ]
    }
   ],
   "source": [
    "x = np.arange(16)\n",
    "print(x)\n",
    "x = x.reshape(4,4)\n",
    "print(x)"
   ]
  },
  {
   "cell_type": "code",
   "execution_count": 12,
   "metadata": {},
   "outputs": [
    {
     "name": "stdout",
     "output_type": "stream",
     "text": [
      "[1 2 3 3 2 1]\n"
     ]
    }
   ],
   "source": [
    "x = np.array([1, 2, 3])\n",
    "y = np.array([3, 2, 1])\n",
    "print(np.concatenate([x, y]))\n"
   ]
  },
  {
   "cell_type": "code",
   "execution_count": 13,
   "metadata": {},
   "outputs": [
    {
     "name": "stdout",
     "output_type": "stream",
     "text": [
      "[[1 2 3 1 2 3]\n",
      " [4 5 6 4 5 6]]\n"
     ]
    }
   ],
   "source": [
    "grid = np.array([[1, 2, 3],[4, 5, 6]])\n",
    "print(np.concatenate([grid, grid],axis=1))"
   ]
  },
  {
   "cell_type": "code",
   "execution_count": 15,
   "metadata": {},
   "outputs": [
    {
     "name": "stdout",
     "output_type": "stream",
     "text": [
      "[[1 2]\n",
      " [3 4]]\n",
      "[[5 6]\n",
      " [7 8]]\n"
     ]
    }
   ],
   "source": [
    "x = np.array([[1,2],[3,4]])\n",
    "y = np.array([[5,6],[7,8]])\n",
    "print(x)\n",
    "print(y)"
   ]
  },
  {
   "cell_type": "code",
   "execution_count": 15,
   "metadata": {},
   "outputs": [
    {
     "name": "stdout",
     "output_type": "stream",
     "text": [
      "[[ 6  8]\n",
      " [10 12]]\n",
      "[[ 6  8]\n",
      " [10 12]]\n"
     ]
    }
   ],
   "source": [
    "print(x+y)\n",
    "print(np.add(x,y))"
   ]
  },
  {
   "cell_type": "code",
   "execution_count": 16,
   "metadata": {},
   "outputs": [
    {
     "name": "stdout",
     "output_type": "stream",
     "text": [
      "[[ 5 12]\n",
      " [21 32]]\n",
      "[[ 5 12]\n",
      " [21 32]]\n",
      "Matrix Multiplication:\n",
      "  [[19 22]\n",
      " [43 50]]\n"
     ]
    }
   ],
   "source": [
    "print(x*y)\n",
    "print(np.multiply(x,y))\n",
    "print(\"Matrix Multiplication:\\n \",x.dot(y))"
   ]
  },
  {
   "cell_type": "code",
   "execution_count": 17,
   "metadata": {},
   "outputs": [
    {
     "name": "stdout",
     "output_type": "stream",
     "text": [
      "[[ 7 10]\n",
      " [15 22]]\n",
      "[[ 1  4]\n",
      " [ 9 16]]\n"
     ]
    }
   ],
   "source": [
    "print(x.dot(x))\n",
    "print(x*x)"
   ]
  },
  {
   "cell_type": "markdown",
   "metadata": {},
   "source": [
    "Problems"
   ]
  },
  {
   "cell_type": "code",
   "execution_count": 18,
   "metadata": {},
   "outputs": [
    {
     "name": "stdout",
     "output_type": "stream",
     "text": [
      "Matrix is:\n",
      " [[1. 1. 1.]\n",
      " [1. 1. 1.]\n",
      " [1. 1. 1.]]\n"
     ]
    }
   ],
   "source": [
    "#1. Create a Numpy array filled with all ones\n",
    "import numpy as np\n",
    "one=np.ones((3,3))\n",
    "print(\"Matrix is:\\n\",one)"
   ]
  },
  {
   "cell_type": "code",
   "execution_count": 19,
   "metadata": {},
   "outputs": [
    {
     "name": "stdout",
     "output_type": "stream",
     "text": [
      "[[1 2 3 4]\n",
      " [5 6 7 8]]\n",
      "True\n",
      "True\n",
      "False\n",
      "False\n"
     ]
    }
   ],
   "source": [
    "#2. Check whether a Numpy array contains a specified row\n",
    "x=np.array([[1,2,3,4],[5,6,7,8]])\n",
    "print(x)\n",
    "#checking each row\n",
    "print([1,2,3,4] in x.tolist())\n",
    "print([5,6,7,8] in x.tolist())\n",
    "print([1,2,3] in x.tolist())\n",
    "print([1,2,5,6,7] in x.tolist())"
   ]
  },
  {
   "cell_type": "code",
   "execution_count": 18,
   "metadata": {},
   "outputs": [
    {
     "name": "stdout",
     "output_type": "stream",
     "text": [
      "[[ 35  38  41  44]\n",
      " [123 134 145 156]]\n"
     ]
    }
   ],
   "source": [
    "#3. Compute mathematical operations on Array, Add & Multiply two matrices\n",
    "m1=np.array([[1,2],[5,6]])\n",
    "m2=np.array([[9,10,11,12],[13,14,15,16]])\n",
    "res = m1.dot(m2)\n",
    "print(res)"
   ]
  },
  {
   "cell_type": "code",
   "execution_count": 21,
   "metadata": {},
   "outputs": [
    {
     "name": "stdout",
     "output_type": "stream",
     "text": [
      "Original array:\n",
      "[1 2 3 4 1 2 3 4 1 1 2 2 1 3 1]\n",
      "Most frequent value in above array: \n",
      "[0 6 4 3 2]\n",
      "1\n"
     ]
    }
   ],
   "source": [
    "#4. Find the most frequent value in a NumPy array\n",
    "import numpy as np\n",
    "x = np.array([1,2,3,4,1,2,3,4,1,1,2,2,1,3,1])\n",
    "print(\"Original array:\")\n",
    "print(x)\n",
    "print(\"Most frequent value in above array: \")\n",
    "y=np.bincount(x)\n",
    "print(y)\n",
    "for i in range(len(y)):\n",
    "    if y[i] == max(y):\n",
    "        print(i)"
   ]
  },
  {
   "cell_type": "code",
   "execution_count": 22,
   "metadata": {},
   "outputs": [
    {
     "name": "stdout",
     "output_type": "stream",
     "text": [
      "Original array:\n",
      " [[ 1  2  3]\n",
      " [ 4  5  6]\n",
      " [ 7  8  9]\n",
      " [10 11 12]]\n",
      "Final array after flattening:  [ 1  2  3  4  5  6  7  8  9 10 11 12]\n"
     ]
    }
   ],
   "source": [
    "#5. Flatten a 2d numpy array into 1d array\n",
    "import numpy as np\n",
    "x = np.array([[1,2,3],[4,5,6],[7,8,9],[10,11,12]])\n",
    "print(\"Original array:\\n\",x)\n",
    "s=x.size #or we could also do (r,c)=x.shape and pass r*c in reshape\n",
    "res=x.reshape(s)\n",
    "print(\"Final array after flattening: \",res)"
   ]
  },
  {
   "cell_type": "code",
   "execution_count": 23,
   "metadata": {},
   "outputs": [
    {
     "name": "stdout",
     "output_type": "stream",
     "text": [
      "Matrix:\n",
      " [[ 1  2  3  4]\n",
      " [ 5  6  7  8]\n",
      " [ 9 10 11 12]]\n",
      "Columnwise sum:\n",
      "[15 18 21 24]\n"
     ]
    }
   ],
   "source": [
    "#6. Calculate the sum of all columns in a 2D NumPy array\n",
    "import numpy as np\n",
    "x=np.array([[1,2,3,4],[5,6,7,8],[9,10,11,12]])\n",
    "print(\"Matrix:\\n\",x)\n",
    "print(\"Columnwise sum:\")\n",
    "colsum=[]\n",
    "for i in range(len(x[0])):\n",
    "    sum=0\n",
    "    for j in range(len(x)):\n",
    "        sum+=x[j][i]\n",
    "    colsum.append(sum)\n",
    "colsum=np.array(colsum)\n",
    "print(colsum)"
   ]
  },
  {
   "cell_type": "code",
   "execution_count": 24,
   "metadata": {},
   "outputs": [
    {
     "name": "stdout",
     "output_type": "stream",
     "text": [
      "Average:  9.0\n",
      "Standard Deviation:  5.163977794943222\n",
      "Variance:  26.666666666666668\n"
     ]
    }
   ],
   "source": [
    "#7. Calculate the average, variance and standard deviation in Python using NumPy\n",
    "import numpy as np\n",
    "x=[1,3,5,7,9,11,13,15,17]\n",
    "print(\"Average: \",np.average(x))\n",
    "print(\"Standard Deviation: \",np.std(x))\n",
    "print(\"Variance: \",np.var(x))"
   ]
  },
  {
   "cell_type": "code",
   "execution_count": 1,
   "metadata": {},
   "outputs": [
    {
     "name": "stdout",
     "output_type": "stream",
     "text": [
      "Original array:  ['Python' 'is' 'easy']\n",
      "Required array:  ['P y t h o n' 'i s' 'e a s y']\n"
     ]
    }
   ],
   "source": [
    "#8. Insert a space between characters of all the elements of a given NumPy array?\n",
    "# ['Python' 'is' 'easy']\n",
    "# ['P y t h o n' 'i s' 'e a s y']\n",
    "import numpy as np\n",
    "charac=np.array(['Python','is','easy'],dtype=str)\n",
    "print(\"Original array: \",charac)\n",
    "req=np.char.join(\" \", charac)\n",
    "print(\"Required array: \",req)"
   ]
  },
  {
   "cell_type": "code",
   "execution_count": 26,
   "metadata": {},
   "outputs": [
    {
     "data": {
      "image/png": "[encoded data removed]",
      "text/plain": [
       "<Figure size 432x288 with 1 Axes>"
      ]
     },
     "metadata": {
      "needs_background": "light"
     },
     "output_type": "display_data"
    }
   ],
   "source": [
    "#9. Plot line graph from NumPy array\n",
    "import numpy as np\n",
    "import matplotlib.pyplot as plt\n",
    "x=np.arange(1,11)\n",
    "y=x*x\n",
    "# plotting graph for x^2\n",
    "plt.title(\"Line graph\")\n",
    "plt.xlabel(\"X axis\")\n",
    "plt.ylabel(\"Y axis\")\n",
    "plt.plot(x, y, color =\"green\")\n",
    "plt.show()"
   ]
  }
 ],
 "metadata": {
  "kernelspec": {
   "display_name": "Python 3.10.2 64-bit",
   "language": "python",
   "name": "python3"
  },
  "language_info": {
   "codemirror_mode": {
    "name": "ipython",
    "version": 3
   },
   "file_extension": ".py",
   "mimetype": "text/x-python",
   "name": "python",
   "nbconvert_exporter": "python",
   "pygments_lexer": "ipython3",
   "version": "3.10.2"
  },
  "vscode": {
   "interpreter": {
    "hash": "3c74516f48d742392aebfb3bd6803865bfb88a5fe623c8df967ab6f461cdf791"
   }
  }
 },
 "nbformat": 4,
 "nbformat_minor": 2
}
