{
 "cells": [
  {
   "cell_type": "markdown",
   "metadata": {
    "id": "wh1zc0ew7Q5S"
   },
   "source": [
    "Lab 9"
   ]
  },
  {
   "cell_type": "code",
   "execution_count": 22,
   "metadata": {
    "colab": {
     "base_uri": "https://localhost:8080/"
    },
    "executionInfo": {
     "elapsed": 431,
     "status": "ok",
     "timestamp": 1652874592820,
     "user": {
      "displayName": "Vashisth Zatakia",
      "userId": "16336144396185381012"
     },
     "user_tz": -330
    },
    "id": "fCuKbqGz7SPd",
    "outputId": "7ea139fa-3f4c-448c-8984-e5e5c86a5a54"
   },
   "outputs": [
    {
     "name": "stdout",
     "output_type": "stream",
     "text": [
      "Vashisth : Passed\n",
      "XYZ :\t  Fail\n"
     ]
    }
   ],
   "source": [
    "class Student:\n",
    "    def check(self):\n",
    "        if(self.marks>=35):\n",
    "            return \"Passed\"\n",
    "        else:\n",
    "            return \"Fail\"\n",
    "    \n",
    "student1=Student()\n",
    "student2=Student()\n",
    "student1.name=\"Vashisth\"\n",
    "student1.marks=90\n",
    "student2.name=\"XYZ\"\n",
    "student2.marks=34\n",
    "print(student1.name,\":\",student1.check())\n",
    "print(student2.name,\":\\t \",student2.check())\n"
   ]
  },
  {
   "cell_type": "code",
   "execution_count": 18,
   "metadata": {
    "colab": {
     "base_uri": "https://localhost:8080/"
    },
    "executionInfo": {
     "elapsed": 421,
     "status": "ok",
     "timestamp": 1652874492595,
     "user": {
      "displayName": "Vashisth Zatakia",
      "userId": "16336144396185381012"
     },
     "user_tz": -330
    },
    "id": "WI3tePs8_NT5",
    "outputId": "0dca7d93-adf8-4831-f334-0ac302f5f197"
   },
   "outputs": [
    {
     "name": "stdout",
     "output_type": "stream",
     "text": [
      "Vashisth : Passed\n"
     ]
    }
   ],
   "source": [
    "class Student:\n",
    "    def __init__(self,name,marks):\n",
    "        self.name=name\n",
    "        self.marks=marks\n",
    "    def check(self):\n",
    "        if(self.marks>=35):\n",
    "            return \"Passed\"\n",
    "        else:\n",
    "            return \"Fail\"\n",
    "\n",
    "student1=Student(\"Vashisth\",90)\n",
    "print(student1.name,\":\",student1.check())\n"
   ]
  },
  {
   "cell_type": "code",
   "execution_count": 29,
   "metadata": {
    "colab": {
     "base_uri": "https://localhost:8080/"
    },
    "executionInfo": {
     "elapsed": 433,
     "status": "ok",
     "timestamp": 1652874776017,
     "user": {
      "displayName": "Vashisth Zatakia",
      "userId": "16336144396185381012"
     },
     "user_tz": -330
    },
    "id": "NtIrROaw_1mI",
    "outputId": "87e41154-588d-46cd-b664-08b295749c27"
   },
   "outputs": [
    {
     "name": "stdout",
     "output_type": "stream",
     "text": [
      "I can drink\n",
      "I can eat\n",
      "I can bark\n"
     ]
    }
   ],
   "source": [
    "class Animal:\n",
    "    def eat(self):\n",
    "        print(\"I can eat\")\n",
    "class Dog(Animal):\n",
    "    def bark(self):\n",
    "        print(\"I can bark\")\n",
    "class Cat(Animal):\n",
    "    def drink(self):\n",
    "        print(\"I can drink\")\n",
    "cat=Cat()\n",
    "dog=Dog()\n",
    "cat.drink()\n",
    "cat.eat()\n",
    "dog.bark()"
   ]
  },
  {
   "cell_type": "code",
   "execution_count": 40,
   "metadata": {
    "colab": {
     "base_uri": "https://localhost:8080/"
    },
    "executionInfo": {
     "elapsed": 710,
     "status": "ok",
     "timestamp": 1652875306081,
     "user": {
      "displayName": "Vashisth Zatakia",
      "userId": "16336144396185381012"
     },
     "user_tz": -330
    },
    "id": "HSyI4l8TA7Lz",
    "outputId": "14935e52-7b02-4322-c80a-b0f036ecba23"
   },
   "outputs": [
    {
     "name": "stdout",
     "output_type": "stream",
     "text": [
      "Perimeter:  18\n",
      "Polygon is 2 dimensional shape with straight lines\n",
      "Triangle is polygon with three sides\n"
     ]
    }
   ],
   "source": [
    "class Polygon:\n",
    "    def __init__(self,sides):\n",
    "        self.sides=sides\n",
    "    def display_info(self):\n",
    "        print(\"Polygon is 2 dimensional shape with straight lines\")\n",
    "    def get_perimeter(self):\n",
    "        perimeter=sum(self.sides)\n",
    "        return perimeter\n",
    "class triangle(Polygon):\n",
    "    def display_info(self):\n",
    "        super().display_info()\n",
    "        print(\"Triangle is polygon with three sides\")\n",
    "\n",
    "tl=triangle([5,6,7])\n",
    "perimeter=tl.get_perimeter()\n",
    "print(\"Perimeter: \", perimeter)\n",
    "tl.display_info()"
   ]
  },
  {
   "cell_type": "code",
   "execution_count": 41,
   "metadata": {
    "colab": {
     "base_uri": "https://localhost:8080/"
    },
    "executionInfo": {
     "elapsed": 425,
     "status": "ok",
     "timestamp": 1652875555299,
     "user": {
      "displayName": "Vashisth Zatakia",
      "userId": "16336144396185381012"
     },
     "user_tz": -330
    },
    "id": "VumzrTLW8E_n",
    "outputId": "53d41695-6ee6-40b3-c116-877bd3535be2"
   },
   "outputs": [
    {
     "name": "stdout",
     "output_type": "stream",
     "text": [
      "Parrots can't fly\n",
      "Penguins can't fly\n"
     ]
    }
   ],
   "source": [
    "class Parrot:\n",
    "    def fly(self):\n",
    "        print(\"Parrots can't fly\")\n",
    "class Penguin:\n",
    "    def fly(self):\n",
    "        print(\"Penguins can't fly\")\n",
    "\n",
    "def flying_test(self):\n",
    "    self.fly()\n",
    "\n",
    "blu=Parrot()\n",
    "peggy=Penguin()\n",
    "flying_test(blu)\n",
    "flying_test(peggy)"
   ]
  },
  {
   "cell_type": "code",
   "execution_count": 46,
   "metadata": {
    "colab": {
     "base_uri": "https://localhost:8080/"
    },
    "executionInfo": {
     "elapsed": 408,
     "status": "ok",
     "timestamp": 1652876001262,
     "user": {
      "displayName": "Vashisth Zatakia",
      "userId": "16336144396185381012"
     },
     "user_tz": -330
    },
    "id": "xPC8vk7aFJSk",
    "outputId": "12bf6725-215f-496d-fb85-6017d4a47b03"
   },
   "outputs": [
    {
     "name": "stdout",
     "output_type": "stream",
     "text": [
      "30\n"
     ]
    }
   ],
   "source": [
    "class A:\n",
    "    def __init__(self,a):\n",
    "        self.a=a\n",
    "\n",
    "    def __add__(self,y):\n",
    "        return self.a + y.a\n",
    "obj1=A(10)\n",
    "obj2=A(20)\n",
    "print(obj1+obj2)"
   ]
  },
  {
   "cell_type": "code",
   "execution_count": 51,
   "metadata": {
    "colab": {
     "base_uri": "https://localhost:8080/"
    },
    "executionInfo": {
     "elapsed": 397,
     "status": "ok",
     "timestamp": 1652876202762,
     "user": {
      "displayName": "Vashisth Zatakia",
      "userId": "16336144396185381012"
     },
     "user_tz": -330
    },
    "id": "ht9v6kfgF7uX",
    "outputId": "d8de67f3-c7dc-4662-8e94-1612217784f1"
   },
   "outputs": [
    {
     "name": "stdout",
     "output_type": "stream",
     "text": [
      "60\n"
     ]
    }
   ],
   "source": [
    "def product(a,b):\n",
    "    print(a*b)\n",
    "\n",
    "def product(a,b,c):\n",
    "    print(a*b*c)\n",
    "\n",
    "# product(3,4) #will not work\n",
    "product(3,4,5)"
   ]
  },
  {
   "cell_type": "code",
   "execution_count": 55,
   "metadata": {
    "colab": {
     "base_uri": "https://localhost:8080/"
    },
    "executionInfo": {
     "elapsed": 430,
     "status": "ok",
     "timestamp": 1652876477810,
     "user": {
      "displayName": "Vashisth Zatakia",
      "userId": "16336144396185381012"
     },
     "user_tz": -330
    },
    "id": "vtRmYi2DG5bm",
    "outputId": "c8c0efc6-7bad-4e08-e5be-7e8030abfb7c"
   },
   "outputs": [
    {
     "name": "stdout",
     "output_type": "stream",
     "text": [
      "(<class '__main__.Child'>, <class '__main__.Father'>, <class '__main__.Mother'>, <class 'object'>)\n",
      "(<class '__main__.Child1'>, <class '__main__.Mother'>, <class '__main__.Father'>, <class 'object'>)\n"
     ]
    }
   ],
   "source": [
    "class Mother:\n",
    "    pass\n",
    "class Father:\n",
    "    pass\n",
    "class Child(Father, Mother):\n",
    "    pass\n",
    "class Child1(Mother, Father):\n",
    "    pass\n",
    "print(Child.__mro__)\n",
    "print(Child1.__mro__)"
   ]
  },
  {
   "cell_type": "markdown",
   "metadata": {},
   "source": [
    "Practical 9"
   ]
  },
  {
   "cell_type": "code",
   "execution_count": 1,
   "metadata": {},
   "outputs": [
    {
     "name": "stdout",
     "output_type": "stream",
     "text": [
      "Addition of Real Part:  8\n",
      "Addition of Imaginbary Part:  6\n"
     ]
    }
   ],
   "source": [
    "#1.Create class Complex , define two methods init to take real & imaginary number\n",
    "# & method add to add real & imaginary part of complex number .\n",
    "# print addition of real part & addition of imaginary part.\n",
    "class Complex:\n",
    "    def __init__(self, real, imag):\n",
    "        self.real = real\n",
    "        self.imag = imag\n",
    "\n",
    "    def __add__(self, y):\n",
    "        print(\"Addition of Real Part: \", self.real + y.real)\n",
    "        print(\"Addition of Imaginbary Part: \", self.imag + y.imag)\n",
    "\n",
    "c1 = Complex(5, 4)\n",
    "c2 = Complex(3, 2)\n",
    "c1+c2\n"
   ]
  },
  {
   "cell_type": "code",
   "execution_count": 2,
   "metadata": {},
   "outputs": [
    {
     "name": "stdout",
     "output_type": "stream",
     "text": [
      "Perimeter of Triangle:  14.0\n"
     ]
    }
   ],
   "source": [
    "# 2.Create class Triangle, Create object from it . The objects will have 3 attributes named a,b,c  that represent sides of triangle .\n",
    "# Triangle class will have two methods init method to initialize the sides & method to calculate perimeter of triangle from its sides . \n",
    "# Perimeter of triangle should be printed from outside the class\n",
    "class Triangle:\n",
    "    def __init__(self,a,b,c):\n",
    "        self.a=a\n",
    "        self.b=b\n",
    "        self.c=c\n",
    "    def calPerimeter(self):\n",
    "        return self.a+self.b+self.c\n",
    "\n",
    "a=float(input(\"Enter length of side a: \"))\n",
    "b=float(input(\"Enter length of side b: \"))\n",
    "c=float(input(\"Enter length of side c: \"))\n",
    "t=Triangle(a,b,c)\n",
    "print(\"Perimeter of Triangle: \", t.calPerimeter())"
   ]
  },
  {
   "cell_type": "code",
   "execution_count": 3,
   "metadata": {},
   "outputs": [
    {
     "name": "stdout",
     "output_type": "stream",
     "text": [
      "0. Exit\n",
      "1. Add\n",
      "2. Delete\n",
      "3. Display\n",
      "Enter choice: 1\n",
      "Enter number to append: 5\n",
      "List:  [5]\n",
      "0. Exit\n",
      "1. Add\n",
      "2. Delete\n",
      "3. Display\n",
      "Enter choice: 1\n",
      "Enter number to append: 6\n",
      "List:  [5, 6]\n",
      "0. Exit\n",
      "1. Add\n",
      "2. Delete\n",
      "3. Display\n",
      "Enter choice: 2\n",
      "Enter number to remove: 5\n",
      "List:  [6]\n",
      "0. Exit\n",
      "1. Add\n",
      "2. Delete\n",
      "3. Display\n",
      "Enter choice: 3\n",
      "List:  [6]\n",
      "0. Exit\n",
      "1. Add\n",
      "2. Delete\n",
      "3. Display\n",
      "Enter choice: 0\n",
      "Exiting!\n",
      "\n"
     ]
    }
   ],
   "source": [
    "#3.Python program to append ,delete and display elements of a list using classes\n",
    "class Operations():\n",
    "    def __init__(self):\n",
    "        self.n = []\n",
    "\n",
    "    def add(self, a):\n",
    "        return self.n.append(a)\n",
    "\n",
    "    def remove(self, b):\n",
    "        self.n.remove(b)\n",
    "\n",
    "    def display(self):\n",
    "        return (self.n)\n",
    "\n",
    "op=Operations()\n",
    "choice = 10\n",
    "while choice != 0:\n",
    "    print(\"0. Exit\")\n",
    "    print(\"1. Add\")\n",
    "    print(\"2. Delete\")\n",
    "    print(\"3. Display\")\n",
    "    choice = int(input(\"Enter choice: \"))\n",
    "    if choice == 1:\n",
    "        n = int(input(\"Enter number to append: \"))\n",
    "        op.add(n)\n",
    "        print(\"List: \", op.display())\n",
    "    elif choice == 2:\n",
    "        n = int(input(\"Enter number to remove: \"))\n",
    "        op.remove(n)\n",
    "        print(\"List: \", op.display())\n",
    "    elif choice == 3:\n",
    "        print(\"List: \", op.display())\n",
    "    elif choice == 0:\n",
    "        print(\"Exiting!\")\n",
    "    else:\n",
    "        print(\"Invalid choice!!\")\n",
    "print()"
   ]
  },
  {
   "cell_type": "code",
   "execution_count": 1,
   "metadata": {},
   "outputs": [
    {
     "name": "stdout",
     "output_type": "stream",
     "text": [
      "Enter first number:5\n",
      "Enter second number:6\n",
      "0. Exit\n",
      "1. ADDITION\n",
      "2. SUBTRACTION\n",
      "3. MULTIPLICATION\n",
      "4. DIVISION\n",
      "Enter your choice:1\n",
      "11\n",
      "0. Exit\n",
      "1. ADDITION\n",
      "2. SUBTRACTION\n",
      "3. MULTIPLICATION\n",
      "4. DIVISION\n",
      "Enter your choice:3\n",
      "30\n",
      "0. Exit\n",
      "1. ADDITION\n",
      "2. SUBTRACTION\n",
      "3. MULTIPLICATION\n",
      "4. DIVISION\n",
      "Enter your choice:0\n",
      "Exiting\n"
     ]
    }
   ],
   "source": [
    "# 4.Write a program  to create a class which performs basic calculator operations\n",
    "class Calculator:\n",
    "    def addition(self):\n",
    "        return(a + b)\n",
    "\n",
    "    def subtraction(self):\n",
    "        return(a - b)\n",
    "\n",
    "    def multiplication(self):\n",
    "        return(a * b)\n",
    "\n",
    "    def division(self):\n",
    "        return(a / b)\n",
    "\n",
    "\n",
    "a = int(input(\"Enter first number:\"))\n",
    "b = int(input(\"Enter second number:\"))\n",
    "cal = Calculator()\n",
    "choice = 1\n",
    "while choice != 0:\n",
    "    print(\"0. Exit\")\n",
    "    print(\"1. ADDITION\")\n",
    "    print(\"2. SUBTRACTION\")\n",
    "    print(\"3. MULTIPLICATION\")\n",
    "    print(\"4. DIVISION\")\n",
    "    choice = int(input(\"Enter your choice:\"))\n",
    "    if choice==0:\n",
    "        print(\"Exiting\")\n",
    "    elif choice == 1:\n",
    "        print(cal.addition())\n",
    "    elif choice == 2:\n",
    "        print(cal.subtraction())\n",
    "    elif choice == 3:\n",
    "        print(cal.multiplication())\n",
    "    elif choice == 4:\n",
    "        print(cal.division())\n",
    "    else:\n",
    "        print(\"Invalid choice\")"
   ]
  },
  {
   "cell_type": "code",
   "execution_count": 12,
   "metadata": {},
   "outputs": [
    {
     "name": "stdout",
     "output_type": "stream",
     "text": [
      "Original attributes and their values of the Student class:\n",
      "student_id -> 163\n",
      "student_name -> Vashisth Zatakia\n",
      "\n",
      "After adding attribute student_class:\n",
      "student_id -> 163\n",
      "student_name -> Vashisth Zatakia\n",
      "student_class -> B3\n"
     ]
    }
   ],
   "source": [
    "# 5.Write a Python class named Student with two attributes student_id, student_name. \n",
    "# Add a new attribute student_class. Create a function to display the entire attribute and their values in Student class.\n",
    "class Student:\n",
    "    student_id = '163'\n",
    "    student_name = 'Vashisth Zatakia'\n",
    "\n",
    "print(\"Original attributes and their values of the Student class:\")\n",
    "for attr, value in Student.__dict__.items():\n",
    "    if not attr.startswith('_'):\n",
    "        print(f'{attr} -> {value}')\n",
    "print(\"\\nAfter adding attribute student_class:\")\n",
    "Student.student_class = 'B3'\n",
    "for attr, value in Student.__dict__.items():\n",
    "    if not attr.startswith('_'):\n",
    "        print(f'{attr} -> {value}')\n"
   ]
  },
  {
   "cell_type": "code",
   "execution_count": 14,
   "metadata": {},
   "outputs": [
    {
     "name": "stdout",
     "output_type": "stream",
     "text": [
      "world hello\n"
     ]
    }
   ],
   "source": [
    "# 6.Write a Python class to reverse a string word by word.\n",
    "class Reverse:\n",
    "    def rev(self, s):\n",
    "        words = s.split(' ')\n",
    "        revstr=' '.join(reversed(words))\n",
    "        return revstr\n",
    "\n",
    "re=Reverse()\n",
    "print(re.rev('hello world'))"
   ]
  },
  {
   "cell_type": "code",
   "execution_count": 3,
   "metadata": {},
   "outputs": [
    {
     "name": "stdout",
     "output_type": "stream",
     "text": [
      "Enter a string: hello world\n",
      "HELLO WORLD\n"
     ]
    }
   ],
   "source": [
    "# 7.Write a Python class which has two methods get_String and print_String.\n",
    "#  get_String accept a string from the user and print_String print the string in upper case.\n",
    "class StringOperation():\n",
    "    def __init__(self):\n",
    "        self.str = \"\"\n",
    "\n",
    "    def get_String(self):\n",
    "        self.str = input(\"Enter a string: \")\n",
    "        \n",
    "    def print_String(self):\n",
    "        print(self.str.upper())\n",
    "\n",
    "str=StringOperation()\n",
    "str.get_String()\n",
    "str.print_String()"
   ]
  },
  {
   "cell_type": "code",
   "execution_count": 4,
   "metadata": {},
   "outputs": [
    {
     "name": "stdout",
     "output_type": "stream",
     "text": [
      "Enter radius of circle: 5\n",
      "Perimeter:  31.400000000000002\n",
      "Area:  78.5\n"
     ]
    }
   ],
   "source": [
    "#8.Write a Python class named Circle constructed by a radius and two methods \n",
    "# which will compute the area and the perimeter of a circle.\n",
    "PI=3.14\n",
    "class Circle():\n",
    "    def __init__(self):\n",
    "        self.radius=float(input(\"Enter radius of circle: \"))\n",
    "    def perimeter(self):\n",
    "        perim=2*PI*self.radius\n",
    "        return perim\n",
    "    def area(self):\n",
    "        ar=PI*(self.radius**2) \n",
    "        return ar\n",
    "cir=Circle()\n",
    "print(\"Perimeter: \", cir.perimeter())\n",
    "print(\"Area: \", cir.area())"
   ]
  },
  {
   "cell_type": "code",
   "execution_count": 5,
   "metadata": {},
   "outputs": [
    {
     "name": "stdout",
     "output_type": "stream",
     "text": [
      "Vehicle Name: Eiecher Max Speed: 120 Mileage: 10\n"
     ]
    }
   ],
   "source": [
    "#9.Write a Python program to create a Vehicle class with max_speed and mileage instance attributes. \n",
    "# Create a child class Bus that will inherit all of the variables and methods of the Vehicle class\n",
    "class Vehicle():\n",
    "    def __init__(self,name,max_speed,mileage):\n",
    "        self.name = name\n",
    "        self.max_speed=max_speed\n",
    "        self.mileage=mileage\n",
    "class Bus(Vehicle):\n",
    "    pass\n",
    "\n",
    "\n",
    "b = Bus(\"Eiecher\", 120, 10)\n",
    "print(\"Vehicle Name:\", b.name, \"Max Speed:\", b.max_speed, \"Mileage:\", b.mileage)\n"
   ]
  }
 ],
 "metadata": {
  "colab": {
   "authorship_tag": "ABX9TyMHa5tMtYtG5zO8ETWiSDIg",
   "collapsed_sections": [],
   "mount_file_id": "1rQNYmExjcPmu_RFcfrbAJmXXyZQos3mZ",
   "name": "Lab9.ipynb",
   "provenance": []
  },
  "interpreter": {
   "hash": "3c74516f48d742392aebfb3bd6803865bfb88a5fe623c8df967ab6f461cdf791"
  },
  "kernelspec": {
   "display_name": "Python 3 (ipykernel)",
   "language": "python",
   "name": "python3"
  },
  "language_info": {
   "codemirror_mode": {
    "name": "ipython",
    "version": 3
   },
   "file_extension": ".py",
   "mimetype": "text/x-python",
   "name": "python",
   "nbconvert_exporter": "python",
   "pygments_lexer": "ipython3",
   "version": "3.10.2"
  }
 },
 "nbformat": 4,
 "nbformat_minor": 1
}
