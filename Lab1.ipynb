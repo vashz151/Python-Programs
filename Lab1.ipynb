{
 "cells": [
  {
   "cell_type": "code",
   "execution_count": 1,
   "id": "511f8a3d",
   "metadata": {},
   "outputs": [
    {
     "name": "stdout",
     "output_type": "stream",
     "text": [
      "First line\n",
      "Second line\n",
      "Third line\n"
     ]
    }
   ],
   "source": [
    "print('''First line\n",
    "Second line\n",
    "Third line''')"
   ]
  },
  {
   "cell_type": "code",
   "execution_count": 5,
   "id": "ef0ac8bf",
   "metadata": {},
   "outputs": [
    {
     "name": "stdout",
     "output_type": "stream",
     "text": [
      "Complex number=  (5+2j)\n",
      "<class 'complex'>\n",
      "Real part=  5.0\n",
      "Imaginary part=  2.0\n",
      "Conjugate=  (5-2j)\n",
      "Absolute value=  5.385164807134504\n"
     ]
    }
   ],
   "source": [
    "z=2j +5\n",
    "print(\"Complex number= \",z)\n",
    "print(type(z))\n",
    "print(\"Real part= \", z.real)\n",
    "print(\"Imaginary part= \", z.imag)\n",
    "print(\"Conjugate= \",z.conjugate())\n",
    "print(\"Absolute value= \",abs(z))"
   ]
  },
  {
   "cell_type": "code",
   "execution_count": 7,
   "id": "959d2410",
   "metadata": {},
   "outputs": [
    {
     "name": "stdout",
     "output_type": "stream",
     "text": [
      "Initial: hello\n",
      "Final: help\n"
     ]
    }
   ],
   "source": [
    "a='hello'\n",
    "print('Initial: '+a)\n",
    "a=a.replace('hello','help')\n",
    "print('Final: '+a)\n"
   ]
  },
  {
   "cell_type": "code",
   "execution_count": 9,
   "id": "f76b3a44",
   "metadata": {},
   "outputs": [
    {
     "name": "stdout",
     "output_type": "stream",
     "text": [
      "Initial:  hello\n",
      "After removing whitespaces: hello\n"
     ]
    }
   ],
   "source": [
    "s=' hello'\n",
    "print('Initial: '+s)\n",
    "print('After removing whitespaces: '+s.strip())\n"
   ]
  },
  {
   "cell_type": "code",
   "execution_count": 11,
   "id": "9c3a3eca",
   "metadata": {},
   "outputs": [
    {
     "name": "stdout",
     "output_type": "stream",
     "text": [
      "Generated List: [161, 130, 182, 157, 122, 114, 161, 115, 154, 124]\n",
      "Minimum is:  114\n"
     ]
    }
   ],
   "source": [
    "import random\n",
    "lst=[]\n",
    "for n in range(10):\n",
    "    lst.append(random.randrange(100,201))\n",
    "print(\"Generated List:\",lst)\n",
    "print(\"Minimum is: \",min(lst))"
   ]
  },
  {
   "cell_type": "code",
   "execution_count": 13,
   "id": "98d4590f",
   "metadata": {},
   "outputs": [
    {
     "name": "stdout",
     "output_type": "stream",
     "text": [
      "hashistv\n"
     ]
    }
   ],
   "source": [
    "st=\"vashisth\"\n",
    "fst=st[:1]\n",
    "lst=st[-1:]\n",
    "print(lst+st[1:-1]+fst)"
   ]
  },
  {
   "cell_type": "code",
   "execution_count": 16,
   "id": "5f7fbb61",
   "metadata": {},
   "outputs": [
    {
     "name": "stdout",
     "output_type": "stream",
     "text": [
      "Enter string to find: Vash\n",
      "Substring present\n"
     ]
    }
   ],
   "source": [
    "a='Vashisth Zatakia'\n",
    "b=input('Enter string to find: ')\n",
    "if b in a:\n",
    "    print('Substring present')\n",
    "else:\n",
    "    print('Substring not present')"
   ]
  },
  {
   "cell_type": "code",
   "execution_count": 20,
   "id": "459ad2a3",
   "metadata": {},
   "outputs": [
    {
     "name": "stdout",
     "output_type": "stream",
     "text": [
      "Enter a sentence: Co Operative\n",
      "Initial: Co Operative\n",
      "After replacing: Co-Operative\n"
     ]
    }
   ],
   "source": [
    "str=input('Enter a sentence: ')\n",
    "print('Initial: '+str)\n",
    "new=str.replace(' ','-')\n",
    "print('After replacing: '+new)"
   ]
  },
  {
   "cell_type": "code",
   "execution_count": null,
   "id": "e79e59d7",
   "metadata": {},
   "outputs": [],
   "source": []
  },
  {
   "cell_type": "code",
   "execution_count": null,
   "id": "87afee9b",
   "metadata": {},
   "outputs": [],
   "source": []
  }
 ],
 "metadata": {
  "kernelspec": {
   "display_name": "Python 3 (ipykernel)",
   "language": "python",
   "name": "python3"
  },
  "language_info": {
   "codemirror_mode": {
    "name": "ipython",
    "version": 3
   },
   "file_extension": ".py",
   "mimetype": "text/x-python",
   "name": "python",
   "nbconvert_exporter": "python",
   "pygments_lexer": "ipython3",
   "version": "3.10.2"
  }
 },
 "nbformat": 4,
 "nbformat_minor": 5
}
