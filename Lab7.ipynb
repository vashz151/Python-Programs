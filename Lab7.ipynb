{
 "cells": [
  {
   "cell_type": "code",
   "execution_count": 12,
   "metadata": {
    "colab": {
     "base_uri": "https://localhost:8080/"
    },
    "id": "g5wQH2CbbRGv",
    "outputId": "87211e91-f8fd-4b8f-c483-a17f072f1abc"
   },
   "outputs": [
    {
     "name": "stdout",
     "output_type": "stream",
     "text": [
      "Lorem Ipsum is simply dummy text of the printing and typesetting industry. Lorem Ipsum has been the industry's standard dummy text ever since the 1500s, when an unknown printer took a galley of type and scrambled it to make a type specimen book. \n",
      "It has survived not only five centuries, but also the leap into electronic typesetting, remaining essentially unchanged. It was popularised in the 1960s with the release of Letraset sheets containing Lorem Ipsum passages, and more recently with desktop publishing software like Aldus PageMaker including versions of Lorem Ipsum.\n"
     ]
    }
   ],
   "source": [
    "filen=open(\"/mytxt.txt\",\"r\")\n",
    "data=filen.read()\n",
    "print(data)"
   ]
  },
  {
   "cell_type": "code",
   "execution_count": 15,
   "metadata": {
    "colab": {
     "base_uri": "https://localhost:8080/"
    },
    "id": "nrCIkGrZeRoy",
    "outputId": "4a70d1f4-5d90-41d1-862d-700f41bf9dfd"
   },
   "outputs": [
    {
     "name": "stdout",
     "output_type": "stream",
     "text": [
      "Lorem\n"
     ]
    }
   ],
   "source": [
    "filen=open(\"/mytxt.txt\",\"r\")\n",
    "data=filen.read(5)\n",
    "print(data)"
   ]
  },
  {
   "cell_type": "code",
   "execution_count": 19,
   "metadata": {
    "colab": {
     "base_uri": "https://localhost:8080/"
    },
    "id": "KUPlguEIfHUi",
    "outputId": "2794aae2-9c0d-4263-a3c1-6fd981d39d03"
   },
   "outputs": [
    {
     "name": "stdout",
     "output_type": "stream",
     "text": [
      "[\"Lorem Ipsum is simply dummy text of the printing and typesetting industry. Lorem Ipsum has been the industry's standard dummy text ever since the 1500s, when an unknown printer took a galley of type and scrambled it to make a type specimen book. \\n\", 'It has survived not only five centuries, but also the leap into electronic typesetting, remaining essentially unchanged. It was popularised in the 1960s with the release of Letraset sheets containing Lorem Ipsum passages, and more recently with desktop publishing software like Aldus PageMaker including versions of Lorem Ipsum.']\n"
     ]
    }
   ],
   "source": [
    "filen=open(\"/mytxt.txt\",\"r\")\n",
    "print(filen.readlines())"
   ]
  },
  {
   "cell_type": "code",
   "execution_count": 21,
   "metadata": {
    "colab": {
     "base_uri": "https://localhost:8080/"
    },
    "id": "VEUDwlYEemvh",
    "outputId": "c2016dfe-65b8-4f26-e93f-99f28ff28ddc"
   },
   "outputs": [
    {
     "name": "stdout",
     "output_type": "stream",
     "text": [
      "Lorem Ipsum is simply dummy text of the printing and typesetting industry. Lorem Ipsum has been the industry's standard dummy text ever since the 1500s, when an unknown printer took a galley of type and scrambled it to make a type specimen book. \n",
      "\n"
     ]
    }
   ],
   "source": [
    "filen=open(\"/mytxt.txt\",\"r\")\n",
    "print(filen.readline())\n",
    "filen.close()"
   ]
  },
  {
   "cell_type": "code",
   "execution_count": 35,
   "metadata": {
    "id": "qwpyyGKKflzh"
   },
   "outputs": [],
   "source": [
    "filen=open(\"/mytxt.txt\",\"w\")\n",
    "l=[\"Author Vashisth \",\"Zatakia\" ]\n",
    "filen.writelines(l)\n",
    "filen.close()"
   ]
  },
  {
   "cell_type": "code",
   "execution_count": 36,
   "metadata": {
    "colab": {
     "base_uri": "https://localhost:8080/"
    },
    "id": "76M_jc73ghLZ",
    "outputId": "e0c74e96-acbd-4c4d-f350-21267d49209e"
   },
   "outputs": [
    {
     "name": "stdout",
     "output_type": "stream",
     "text": [
      "['Author Vashisth Zatakia']\n"
     ]
    }
   ],
   "source": [
    "filen=open(\"/mytxt.txt\",\"r\")\n",
    "print(filen.readlines())\n",
    "filen.close()"
   ]
  },
  {
   "cell_type": "code",
   "execution_count": 40,
   "metadata": {
    "colab": {
     "base_uri": "https://localhost:8080/"
    },
    "id": "wW9YqSUrhYdo",
    "outputId": "e6bcaa77-ac82-48cb-8138-7808c309988a"
   },
   "outputs": [
    {
     "name": "stdout",
     "output_type": "stream",
     "text": [
      "['Author Vashisth Zatakia\\n', ' SAP ID:60003200163']\n"
     ]
    }
   ],
   "source": [
    "filen=open(\"/mytxt.txt\",\"a\")\n",
    "filen.write(\"\\n SAP ID:\")\n",
    "filen.write(\"60003200163\")\n",
    "filen=open(\"/mytxt.txt\",\"r\")\n",
    "print(filen.readlines())\n",
    "filen.close()"
   ]
  },
  {
   "cell_type": "code",
   "execution_count": 70,
   "metadata": {
    "colab": {
     "base_uri": "https://localhost:8080/"
    },
    "id": "Py2YXSMkj1_y",
    "outputId": "9caf89e6-f84f-4b6d-9911-dcb4ade19a15"
   },
   "outputs": [
    {
     "name": "stdout",
     "output_type": "stream",
     "text": [
      "['Lorem Ipsum Is Simply Dummy Text Of The Printing And Typesetting Industry.']\n"
     ]
    }
   ],
   "source": [
    "filen=open(\"/content/mytxt.txt\",\"r\")\n",
    "data=filen.read()\n",
    "data2=data.title()\n",
    "filen.close()\n",
    "filen=open(\"/content/mytxt.txt\",\"w\")\n",
    "filen.writelines(data2)\n",
    "filen.close()\n",
    "filen=open(\"/content/mytxt.txt\",\"r\")\n",
    "print(filen.readlines())"
   ]
  },
  {
   "cell_type": "code",
   "execution_count": 75,
   "metadata": {
    "colab": {
     "base_uri": "https://localhost:8080/"
    },
    "id": "olczrXxSnSDz",
    "outputId": "1378576f-0deb-4901-f544-2c792aebdd8f"
   },
   "outputs": [
    {
     "name": "stdout",
     "output_type": "stream",
     "text": [
      "Lorem Ipsum Is Simply Dummy Text Of The Printing And Typesetting Industry.\n",
      "Enter the letter whose frequency needs to be found: l\n",
      "2\n"
     ]
    }
   ],
   "source": [
    "filen=open(\"/content/mytxt.txt\",\"r\")\n",
    "data=filen.read()\n",
    "print(data)\n",
    "data1=data.lower()\n",
    "inp=input(\"Enter the letter whose frequency needs to be found: \")\n",
    "print(data1.count(inp))\n",
    "filen.close()"
   ]
  },
  {
   "cell_type": "code",
   "execution_count": 78,
   "metadata": {
    "colab": {
     "base_uri": "https://localhost:8080/"
    },
    "id": "ceNOJnD4oOHb",
    "outputId": "bcb4c1ff-92ab-46ff-b957-a7ae3934a78f"
   },
   "outputs": [
    {
     "name": "stdout",
     "output_type": "stream",
     "text": [
      "Original File: Lorem Ipsum Is Simply Dummy Text Of The Printing And Typesetting Industry.\n",
      "Copied File: Lorem Ipsum Is Simply Dummy Text Of The Printing And Typesetting Industry.\n"
     ]
    }
   ],
   "source": [
    "filen=open(\"/content/mytxt.txt\",\"r\")\n",
    "filec=open(\"/content/copytext.txt\",\"w\")\n",
    "data=filen.read()\n",
    "filec.writelines(data)\n",
    "filec.close()\n",
    "filec=open(\"/content/copytext.txt\",\"r\")\n",
    "print(\"Original File: \"+ data)\n",
    "print(\"Copied File: \"+filec.read())\n",
    "filec.close()\n",
    "filen.close()"
   ]
  },
  {
   "cell_type": "code",
   "execution_count": 84,
   "metadata": {
    "colab": {
     "base_uri": "https://localhost:8080/"
    },
    "id": "CYiMRTikpWhk",
    "outputId": "179c04f3-4eee-43a4-ef5c-2c4e408a60a9"
   },
   "outputs": [
    {
     "name": "stdout",
     "output_type": "stream",
     "text": [
      "Enter name: Vashisth\n",
      "Enter roll number: 60003200163\n",
      "Contents of file are: \n",
      "Name: Vashisth\n",
      "Roll number: 60003200163\n"
     ]
    }
   ],
   "source": [
    "name=input(\"Enter name: \")\n",
    "roll=input(\"Enter roll number: \")\n",
    "filenr=open(\"/content/nameroll.txt\",\"x\")\n",
    "filenr=open(\"/content/nameroll.txt\",\"w\")\n",
    "filenr.writelines(\"Name: \"+ name+\"\\nRoll number: \"+roll)\n",
    "filenr.close()\n",
    "filenr=open(\"/content/nameroll.txt\",\"r\")\n",
    "print(\"Contents of file are: \")\n",
    "print(filenr.read())\n",
    "filenr.close()\n",
    "\n"
   ]
  },
  {
   "cell_type": "code",
   "execution_count": 85,
   "metadata": {
    "colab": {
     "base_uri": "https://localhost:8080/"
    },
    "id": "MwWdXFkaqyFJ",
    "outputId": "7c8492bb-b982-4e2a-969d-ccf112b25db1"
   },
   "outputs": [
    {
     "name": "stdout",
     "output_type": "stream",
     "text": [
      "Enter name of source file: /content/mytxt.txt\n",
      "Enter name of destination file: /content/copytext.txt\n",
      "Original File: Lorem Ipsum Is Simply Dummy Text Of The Printing And Typesetting Industry.\n",
      "Copied File: Lorem Ipsum Is Simply Dummy Text Of The Printing And Typesetting Industry.\n"
     ]
    }
   ],
   "source": [
    "name=input(\"Enter name of source file: \")\n",
    "name1=input(\"Enter name of destination file: \")\n",
    "filen=open(name,\"r\")\n",
    "filec=open(name1,\"w\")\n",
    "data=filen.read()\n",
    "filec.writelines(data)\n",
    "filec.close()\n",
    "filec=open(name1,\"r\")\n",
    "print(\"Original File: \"+ data)\n",
    "print(\"Copied File: \"+filec.read())\n",
    "filec.close()\n",
    "filen.close()"
   ]
  }
 ],
 "metadata": {
  "colab": {
   "collapsed_sections": [],
   "name": "Lab8.ipynb",
   "provenance": []
  },
  "kernelspec": {
   "display_name": "Python 3 (ipykernel)",
   "language": "python",
   "name": "python3"
  },
  "language_info": {
   "codemirror_mode": {
    "name": "ipython",
    "version": 3
   },
   "file_extension": ".py",
   "mimetype": "text/x-python",
   "name": "python",
   "nbconvert_exporter": "python",
   "pygments_lexer": "ipython3",
   "version": "3.10.2"
  }
 },
 "nbformat": 4,
 "nbformat_minor": 1
}
