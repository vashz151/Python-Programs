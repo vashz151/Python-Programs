{
 "cells": [
  {
   "cell_type": "code",
   "execution_count": 6,
   "metadata": {},
   "outputs": [
    {
     "name": "stdout",
     "output_type": "stream",
     "text": [
      "('Vash', 'Python', 'Hello')\n",
      "Hello\n",
      "('Python', 'Hello')\n"
     ]
    }
   ],
   "source": [
    "# tuple def\n",
    "tple=('Vash','Python','Hello')\n",
    "print(tple)\n",
    "print(tple[-1])\n",
    "print(tple[1:3])"
   ]
  },
  {
   "cell_type": "code",
   "execution_count": 7,
   "metadata": {},
   "outputs": [
    {
     "name": "stdout",
     "output_type": "stream",
     "text": [
      "Vash\n",
      "Python\n",
      "Hello\n",
      "3\n"
     ]
    }
   ],
   "source": [
    "for i in tple:\n",
    "    print(i)\n",
    "print(len(tple))"
   ]
  },
  {
   "cell_type": "code",
   "execution_count": 8,
   "metadata": {},
   "outputs": [
    {
     "name": "stdout",
     "output_type": "stream",
     "text": [
      "<class 'str'> <class 'tuple'>\n"
     ]
    },
    {
     "ename": "TypeError",
     "evalue": "can only concatenate str (not \"tuple\") to str",
     "output_type": "error",
     "traceback": [
      "\u001b[1;31m---------------------------------------------------------------------------\u001b[0m",
      "\u001b[1;31mTypeError\u001b[0m                                 Traceback (most recent call last)",
      "\u001b[1;32mc:\\Users\\zatak\\OneDrive - Shri Vile Parle Kelavani Mandal\\60003200163\\PYTHON\\Lab2.ipynb Cell 3'\u001b[0m in \u001b[0;36m<cell line: 4>\u001b[1;34m()\u001b[0m\n\u001b[0;32m      <a href='vscode-notebook-cell:/c%3A/Users/zatak/OneDrive%20-%20Shri%20Vile%20Parle%20Kelavani%20Mandal/60003200163/PYTHON/Lab2.ipynb#ch0000003?line=1'>2</a>\u001b[0m tlp\u001b[39m=\u001b[39m(\u001b[39m\"\u001b[39m\u001b[39mVash\u001b[39m\u001b[39m\"\u001b[39m,)\n\u001b[0;32m      <a href='vscode-notebook-cell:/c%3A/Users/zatak/OneDrive%20-%20Shri%20Vile%20Parle%20Kelavani%20Mandal/60003200163/PYTHON/Lab2.ipynb#ch0000003?line=2'>3</a>\u001b[0m \u001b[39mprint\u001b[39m(\u001b[39mtype\u001b[39m(tple),\u001b[39mtype\u001b[39m(tlp))\n\u001b[1;32m----> <a href='vscode-notebook-cell:/c%3A/Users/zatak/OneDrive%20-%20Shri%20Vile%20Parle%20Kelavani%20Mandal/60003200163/PYTHON/Lab2.ipynb#ch0000003?line=3'>4</a>\u001b[0m \u001b[39mprint\u001b[39m(tple\u001b[39m+\u001b[39;49mtlp)\n",
      "\u001b[1;31mTypeError\u001b[0m: can only concatenate str (not \"tuple\") to str"
     ]
    }
   ],
   "source": [
    "tple=(\"Vash\")\n",
    "tlp=(\"Vash\",)\n",
    "print(type(tple),type(tlp))\n",
    "print(tple+tlp) #error will come as concatenation not possible"
   ]
  },
  {
   "cell_type": "code",
   "execution_count": 20,
   "metadata": {},
   "outputs": [
    {
     "name": "stdout",
     "output_type": "stream",
     "text": [
      "{'Hello', '!!!', 'World'}\n",
      "{'Hello', '!!!', 'Hellllllo', 'World'}\n",
      "<class 'set'>\n"
     ]
    }
   ],
   "source": [
    "thiset={\"Hello\",\"World\",\"!!!\"}\n",
    "print(thiset)\n",
    "thiset.add(\"Hellllllo\")\n",
    "print(thiset)\n",
    "print(type(thiset))\n"
   ]
  },
  {
   "cell_type": "code",
   "execution_count": 21,
   "metadata": {},
   "outputs": [
    {
     "name": "stdout",
     "output_type": "stream",
     "text": [
      "{'Hello', '!!!', 'World'}\n",
      "{'Hello', '!!!'}\n",
      "{'Hello', '!!!', 'World', 'Helloo', 'HEll'}\n",
      "{'!!!', 'World', 'Helloo', 'HEll'}\n"
     ]
    }
   ],
   "source": [
    "thiset.remove(\"Hellllllo\")\n",
    "print(thiset)\n",
    "thiset.discard(\"World\")\n",
    "print(thiset)\n",
    "thiset.update({\"Helloo\",\"HEll\",\"World\"})\n",
    "print(thiset)\n",
    "thiset.pop()\n",
    "print(thiset)"
   ]
  },
  {
   "cell_type": "code",
   "execution_count": 27,
   "metadata": {},
   "outputs": [
    {
     "name": "stdout",
     "output_type": "stream",
     "text": [
      "Set1=  {'!!!', 'World', 'Helloo', 'HEll'}\n",
      "Set2=  {'Python', 'Notebook', 'Jupyter'}\n",
      "After union:  {'Python', 'Notebook', '!!!', 'Jupyter', 'World', 'Helloo', 'HEll'}\n"
     ]
    }
   ],
   "source": [
    "set2={\"Jupyter\",\"Python\",\"Notebook\"}\n",
    "print(\"Set1= \",thiset)\n",
    "print(\"Set2= \",set2)\n",
    "set2=thiset.union(set2)\n",
    "print(\"After union: \",set2)"
   ]
  },
  {
   "cell_type": "code",
   "execution_count": 41,
   "metadata": {},
   "outputs": [
    {
     "name": "stdout",
     "output_type": "stream",
     "text": [
      "{'Apple': 1, 'Orange': 2}\n",
      "1\n",
      "2\n"
     ]
    }
   ],
   "source": [
    "dic={\"Apple\":1,\"Orange\":2}\n",
    "print(dic) #printing dictionary\n",
    "for i in dic:\n",
    "    print(dic[i]) #printing values"
   ]
  },
  {
   "cell_type": "code",
   "execution_count": 30,
   "metadata": {},
   "outputs": [
    {
     "name": "stdout",
     "output_type": "stream",
     "text": [
      "Apple\n",
      "Orange\n",
      "Apple 1\n",
      "Orange 2\n"
     ]
    }
   ],
   "source": [
    "for k in dic.keys(): #printing keys\n",
    "    print(k)\n",
    "    \n",
    "for k,v in dic.items(): \n",
    "    print(k,v)"
   ]
  },
  {
   "cell_type": "code",
   "execution_count": 42,
   "metadata": {},
   "outputs": [
    {
     "name": "stdout",
     "output_type": "stream",
     "text": [
      "{'Apple': 1, 'Orange': 2, 'Cherry': 3, 'Mango': 4}\n",
      "{'Orange': 2, 'Cherry': 3, 'Mango': 4}\n",
      "{'Orange': 2, 'Cherry': 3}\n",
      "{'Cherry': 3}\n",
      "Copied dictionary:  {'Cherry': 3}\n"
     ]
    }
   ],
   "source": [
    "dic[\"Cherry\"]=3\n",
    "dic[\"Mango\"]=4\n",
    "print(dic)\n",
    "dic.pop(\"Apple\")\n",
    "print(dic)\n",
    "dic.popitem()\n",
    "print(dic)\n",
    "del dic[\"Orange\"]\n",
    "print(dic)\n",
    "thisdic=dic.copy()\n",
    "print(\"Copied dictionary: \" ,thisdic)\n"
   ]
  },
  {
   "cell_type": "code",
   "execution_count": 34,
   "metadata": {},
   "outputs": [
    {
     "name": "stdout",
     "output_type": "stream",
     "text": [
      "2022\n"
     ]
    }
   ],
   "source": [
    "nesdic={\"hello\":{\"hi\":2022},\"heoo\":{\"ll\":2023}}\n",
    "print(nesdic[\"hello\"][\"hi\"])"
   ]
  }
 ],
 "metadata": {
  "interpreter": {
   "hash": "538e13222b30e3470c21bd998694dc39240c6711018518b13b36797d0b09c580"
  },
  "kernelspec": {
   "display_name": "Python 3 (ipykernel)",
   "language": "python",
   "name": "python3"
  },
  "language_info": {
   "codemirror_mode": {
    "name": "ipython",
    "version": 3
   },
   "file_extension": ".py",
   "mimetype": "text/x-python",
   "name": "python",
   "nbconvert_exporter": "python",
   "pygments_lexer": "ipython3",
   "version": "3.10.2"
  }
 },
 "nbformat": 4,
 "nbformat_minor": 2
}
