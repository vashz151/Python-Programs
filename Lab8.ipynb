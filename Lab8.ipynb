{
 "cells": [
  {
   "cell_type": "code",
   "execution_count": 1,
   "id": "80d92603",
   "metadata": {},
   "outputs": [
    {
     "name": "stdout",
     "output_type": "stream",
     "text": [
      "Enter the numerator: 15\n",
      "Enter denominator: 0\n",
      "Denominator cannnot be divided by 0\n"
     ]
    }
   ],
   "source": [
    "num=int(input(\"Enter the numerator: \"))\n",
    "deno=int(input(\"Enter denominator: \"))\n",
    "try:\n",
    "    quo=num/deno\n",
    "    print(\"Quotient: \", quo)\n",
    "except ZeroDivisionError:\n",
    "    print(\"Denominator cannnot be divided by 0\")"
   ]
  },
  {
   "cell_type": "code",
   "execution_count": 3,
   "id": "2daf58ad",
   "metadata": {},
   "outputs": [
    {
     "name": "stdout",
     "output_type": "stream",
     "text": [
      "Enter some string: vash\n",
      "Exception raised\n",
      "In Finally block\n",
      "Value of  y is:  6\n"
     ]
    }
   ],
   "source": [
    "string=input(\"Enter some string: \")\n",
    "try: \n",
    "    y=string[5]\n",
    "    print(\"Character at index 5 is \",y)\n",
    "    print(\"No Exception\")\n",
    "except:\n",
    "    print(\"Exception raised\")\n",
    "else:\n",
    "    print(\"User enter value of y is: \",y )\n",
    "    print(\"else block executed\")\n",
    "finally:\n",
    "    y=6\n",
    "    print(\"In Finally block\")\n",
    "    print(\"Value of  y is: \",y)"
   ]
  },
  {
   "cell_type": "code",
   "execution_count": 4,
   "id": "4ae57c81",
   "metadata": {},
   "outputs": [
    {
     "name": "stdout",
     "output_type": "stream",
     "text": [
      "Enter the age: 17\n",
      "Underage\n"
     ]
    }
   ],
   "source": [
    "try:\n",
    "    age=int(input(\"Enter the age: \"))\n",
    "    if(age<18):\n",
    "        raise ValueError;\n",
    "    else:\n",
    "        print(\"Valid Age\")\n",
    "except ValueError:\n",
    "    print(\"Underage\")"
   ]
  },
  {
   "cell_type": "code",
   "execution_count": 5,
   "id": "f01d52c7",
   "metadata": {},
   "outputs": [
    {
     "name": "stdout",
     "output_type": "stream",
     "text": [
      "Enter a number: 10\n",
      "0.1\n"
     ]
    }
   ],
   "source": [
    "try:\n",
    "    num=int(input(\"Enter a number: \"))\n",
    "    assert num%2==0\n",
    "except:\n",
    "    print(\"Not an even number!\")\n",
    "else: \n",
    "    reciprocal=1/num\n",
    "    print(reciprocal)"
   ]
  },
  {
   "cell_type": "markdown",
   "id": "b09c1441",
   "metadata": {},
   "source": [
    "Practical"
   ]
  },
  {
   "cell_type": "code",
   "execution_count": 26,
   "id": "6d67de31",
   "metadata": {},
   "outputs": [
    {
     "name": "stdout",
     "output_type": "stream",
     "text": [
      "Enter marks: 102\n",
      "Marks greater than 100!\n"
     ]
    }
   ],
   "source": [
    "#1. Make your exception class “InvalidMarks” which is thrown when marks obtained by student exceeds 100\n",
    "class Error(Exception):\n",
    "    pass\n",
    "class InvalidMarks(Error):\n",
    "    pass\n",
    "try:\n",
    "    marks=int(input(\"Enter marks: \"))\n",
    "    if(marks>100):\n",
    "        raise InvalidMarks\n",
    "except InvalidMarks:\n",
    "    print(\"Marks greater than 100!\")\n",
    "else:\n",
    "    print(\"Great Marks!\")"
   ]
  },
  {
   "cell_type": "code",
   "execution_count": 6,
   "id": "e8ce9e96",
   "metadata": {},
   "outputs": [
    {
     "ename": "ZeroDenominator",
     "evalue": "Value of b or d cannot be zero",
     "output_type": "error",
     "traceback": [
      "\u001b[1;31m---------------------------------------------------------------------------\u001b[0m",
      "\u001b[1;31mZeroDenominator\u001b[0m                           Traceback (most recent call last)",
      "\u001b[1;32mc:\\Users\\zatak\\OneDrive - Shri Vile Parle Kelavani Mandal\\60003200163\\PYTHON\\Lab8.ipynb Cell 7'\u001b[0m in \u001b[0;36m<cell line: 13>\u001b[1;34m()\u001b[0m\n\u001b[0;32m     <a href='vscode-notebook-cell:/c%3A/Users/zatak/OneDrive%20-%20Shri%20Vile%20Parle%20Kelavani%20Mandal/60003200163/PYTHON/Lab8.ipynb#ch0000007?line=12'>13</a>\u001b[0m \u001b[39mwhile\u001b[39;00m(\u001b[39mTrue\u001b[39;00m):\n\u001b[0;32m     <a href='vscode-notebook-cell:/c%3A/Users/zatak/OneDrive%20-%20Shri%20Vile%20Parle%20Kelavani%20Mandal/60003200163/PYTHON/Lab8.ipynb#ch0000007?line=13'>14</a>\u001b[0m     \u001b[39mif\u001b[39;00m(b\u001b[39m*\u001b[39md\u001b[39m==\u001b[39m\u001b[39m0\u001b[39m): \u001b[39m#It will raise ZeroDenominator Exception if b or d is equal to 0\u001b[39;00m\n\u001b[1;32m---> <a href='vscode-notebook-cell:/c%3A/Users/zatak/OneDrive%20-%20Shri%20Vile%20Parle%20Kelavani%20Mandal/60003200163/PYTHON/Lab8.ipynb#ch0000007?line=14'>15</a>\u001b[0m         \u001b[39mraise\u001b[39;00m ZeroDenominator\n\u001b[0;32m     <a href='vscode-notebook-cell:/c%3A/Users/zatak/OneDrive%20-%20Shri%20Vile%20Parle%20Kelavani%20Mandal/60003200163/PYTHON/Lab8.ipynb#ch0000007?line=15'>16</a>\u001b[0m     \u001b[39melse\u001b[39;00m:\n\u001b[0;32m     <a href='vscode-notebook-cell:/c%3A/Users/zatak/OneDrive%20-%20Shri%20Vile%20Parle%20Kelavani%20Mandal/60003200163/PYTHON/Lab8.ipynb#ch0000007?line=16'>17</a>\u001b[0m         \u001b[39mprint\u001b[39m(\u001b[39m\"\u001b[39m\u001b[39mValue= \u001b[39m\u001b[39m\"\u001b[39m, ((a\u001b[39m+\u001b[39md) \u001b[39m+\u001b[39m (b\u001b[39m*\u001b[39mc))\u001b[39m/\u001b[39m (b\u001b[39m*\u001b[39md))\n",
      "\u001b[1;31mZeroDenominator\u001b[0m: Value of b or d cannot be zero"
     ]
    }
   ],
   "source": [
    "#2. WAP that accepts the values of a, b, c and d. Calculate and display ((a+d) + (b*c))/ (b*d).\n",
    "#create user defined exception to display proper message when value of (b*d) is zero\n",
    "\n",
    "class ZeroDenominator(Exception):\n",
    "    def __init__(self, message=\"Value of b or d cannot be zero\"):\n",
    "        self.message = message\n",
    "        super().__init__(self.message)\n",
    "        \n",
    "a=int(input(\"Enter value of a: \"))\n",
    "b=int(input(\"Enter value of b: \"))\n",
    "c=int(input(\"Enter value of c: \"))\n",
    "d=int(input(\"Enter value of d: \"))\n",
    "while(True):\n",
    "    if(b*d==0): #It will raise ZeroDenominator Exception if b or d is equal to 0\n",
    "        raise ZeroDenominator\n",
    "    else:\n",
    "        print(\"Value= \", ((a+d) + (b*c))/ (b*d))\n",
    "        break\n",
    "\n"
   ]
  },
  {
   "cell_type": "code",
   "execution_count": 34,
   "id": "f048c9a5",
   "metadata": {},
   "outputs": [
    {
     "name": "stdout",
     "output_type": "stream",
     "text": [
      "Enter the age: 15\n",
      "Age is not valid\n"
     ]
    }
   ],
   "source": [
    "# 3.Ask user to input an age. Raise an exception for age less than 18 , \n",
    "# print message “ age is not valid ” & “age is valid ” if age entered is more than 18 \n",
    "try:\n",
    "    age=int(input(\"Enter the age: \"))\n",
    "    if(age<18):\n",
    "        raise ValueError\n",
    "    else:\n",
    "        print(\"Age is Valid\")\n",
    "except ValueError:\n",
    "    print(\"Age is not valid\")"
   ]
  },
  {
   "cell_type": "code",
   "execution_count": 37,
   "id": "2883603e",
   "metadata": {},
   "outputs": [
    {
     "name": "stdout",
     "output_type": "stream",
     "text": [
      "File does not exist\n"
     ]
    }
   ],
   "source": [
    "#4. Handle the FileNotFoundError exception\n",
    "# trying to open a file, which does not exist\n",
    "try:\n",
    "    file=open(\"doesnotexist.txt\",\"r\")\n",
    "    print(\"File opened\")\n",
    "except FileNotFoundError:\n",
    "    print(\"File does not exist\")\n",
    "except:\n",
    "    print(\"Other error\")\n"
   ]
  },
  {
   "cell_type": "code",
   "execution_count": 5,
   "id": "ac3c4810",
   "metadata": {},
   "outputs": [
    {
     "ename": "RuntimeError",
     "evalue": "No active exception to reraise",
     "output_type": "error",
     "traceback": [
      "\u001b[1;31m---------------------------------------------------------------------------\u001b[0m",
      "\u001b[1;31mRuntimeError\u001b[0m                              Traceback (most recent call last)",
      "\u001b[1;32mc:\\Users\\zatak\\OneDrive - Shri Vile Parle Kelavani Mandal\\60003200163\\PYTHON\\Lab8.ipynb Cell 4'\u001b[0m in \u001b[0;36m<cell line: 2>\u001b[1;34m()\u001b[0m\n\u001b[0;32m      <a href='vscode-notebook-cell:/c%3A/Users/zatak/OneDrive%20-%20Shri%20Vile%20Parle%20Kelavani%20Mandal/60003200163/PYTHON/Lab8.ipynb#ch0000003?line=4'>5</a>\u001b[0m         \u001b[39mprint\u001b[39m(\u001b[39m\"\u001b[39m\u001b[39mx is float\u001b[39m\u001b[39m\"\u001b[39m)\n\u001b[0;32m      <a href='vscode-notebook-cell:/c%3A/Users/zatak/OneDrive%20-%20Shri%20Vile%20Parle%20Kelavani%20Mandal/60003200163/PYTHON/Lab8.ipynb#ch0000003?line=5'>6</a>\u001b[0m     \u001b[39melse\u001b[39;00m:\n\u001b[1;32m----> <a href='vscode-notebook-cell:/c%3A/Users/zatak/OneDrive%20-%20Shri%20Vile%20Parle%20Kelavani%20Mandal/60003200163/PYTHON/Lab8.ipynb#ch0000003?line=6'>7</a>\u001b[0m         \u001b[39mraise\u001b[39;00m\n\u001b[0;32m      <a href='vscode-notebook-cell:/c%3A/Users/zatak/OneDrive%20-%20Shri%20Vile%20Parle%20Kelavani%20Mandal/60003200163/PYTHON/Lab8.ipynb#ch0000003?line=7'>8</a>\u001b[0m \u001b[39mexcept\u001b[39;00m \u001b[39mTypeError\u001b[39;00m:\n\u001b[0;32m      <a href='vscode-notebook-cell:/c%3A/Users/zatak/OneDrive%20-%20Shri%20Vile%20Parle%20Kelavani%20Mandal/60003200163/PYTHON/Lab8.ipynb#ch0000003?line=8'>9</a>\u001b[0m     \u001b[39mprint\u001b[39m(\u001b[39m\"\u001b[39m\u001b[39mx is not float\u001b[39m\u001b[39m\"\u001b[39m)\n",
      "\u001b[1;31mRuntimeError\u001b[0m: No active exception to reraise"
     ]
    }
   ],
   "source": [
    "#5. Raise a TypeError if x is not a float\n",
    "try:\n",
    "    x=input(\"Enter value of x: \")\n",
    "    if(isinstance(x, float)):\n",
    "        print(\"x is float\")\n",
    "    else:\n",
    "        raise TypeError\n",
    "except TypeError:\n",
    "    print(\"x is not float\")\n",
    "    "
   ]
  }
 ],
 "metadata": {
  "kernelspec": {
   "display_name": "Python 3.10.2 64-bit",
   "language": "python",
   "name": "python3"
  },
  "language_info": {
   "codemirror_mode": {
    "name": "ipython",
    "version": 3
   },
   "file_extension": ".py",
   "mimetype": "text/x-python",
   "name": "python",
   "nbconvert_exporter": "python",
   "pygments_lexer": "ipython3",
   "version": "3.10.2"
  },
  "vscode": {
   "interpreter": {
    "hash": "3c74516f48d742392aebfb3bd6803865bfb88a5fe623c8df967ab6f461cdf791"
   }
  }
 },
 "nbformat": 4,
 "nbformat_minor": 5
}
