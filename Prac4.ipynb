{
 "cells": [
  {
   "cell_type": "code",
   "execution_count": 21,
   "id": "725cd030",
   "metadata": {},
   "outputs": [
    {
     "name": "stdout",
     "output_type": "stream",
     "text": [
      "Enter a number: 543\n",
      "Reverse of given number is:  345\n"
     ]
    }
   ],
   "source": [
    "num=input(\"Enter a number: \")\n",
    "num=int(num)\n",
    "rev_num=0\n",
    "d=0\n",
    "while num>0:\n",
    "    d=num%10\n",
    "    rev_num=rev_num*10+d\n",
    "    num=num//10\n",
    "print(\"Reverse of given number is: \", rev_num)"
   ]
  },
  {
   "cell_type": "code",
   "execution_count": 29,
   "id": "5d0f0d7b",
   "metadata": {},
   "outputs": [
    {
     "name": "stdout",
     "output_type": "stream",
     "text": [
      "Enter value of n: 5\n",
      "1= 1\n",
      "\n",
      "1+2= 3\n",
      "\n",
      "1+2+3= 6\n",
      "\n",
      "1+2+3+4= 10\n",
      "\n",
      "1+2+3+4+5= 15\n",
      "\n"
     ]
    }
   ],
   "source": [
    "n=int(input(\"Enter value of n: \"))\n",
    "for i in range(1,n+1):\n",
    "    a=[]\n",
    "    sum=0\n",
    "    for j in range(1,i+1):\n",
    "        print(j,end=\"\")\n",
    "        if(j < i):\n",
    "            print(\"+\", end=\"\")\n",
    "        a.append(j)\n",
    "        sum+=j\n",
    "    print(\"=\",sum)\n",
    "    print()"
   ]
  },
  {
   "cell_type": "code",
   "execution_count": 4,
   "id": "00da5e12",
   "metadata": {
    "scrolled": true
   },
   "outputs": [
    {
     "name": "stdout",
     "output_type": "stream",
     "text": [
      "Enter the max value upto which pythogorean triplets needs to be found: 50\n",
      "Pythagorean triplets from 0 to 50 are: \n",
      "3 4 5\n",
      "8 6 10\n",
      "5 12 13\n",
      "15 8 17\n",
      "12 16 20\n",
      "7 24 25\n",
      "24 10 26\n",
      "21 20 29\n",
      "16 30 34\n",
      "9 40 41\n",
      "35 12 37\n",
      "32 24 40\n",
      "27 36 45\n"
     ]
    }
   ],
   "source": [
    "lim=int(input(\"Enter the max value upto which pythogorean triplets needs to be found: \"))\n",
    "a=0\n",
    "b=0\n",
    "c=0\n",
    "p=2\n",
    "print(\"Pythagorean triplets from 0 to {} are: \".format(lim))\n",
    "while(c<lim):\n",
    "    for q in range(1,p):\n",
    "        a=p*p-q*q\n",
    "        b=2*p*q\n",
    "        c=p*p+q*q\n",
    "        if c>lim:\n",
    "            break\n",
    "        else:\n",
    "            print(a,b,c)\n",
    "    p=p+1"
   ]
  },
  {
   "cell_type": "code",
   "execution_count": 1,
   "id": "f40bbecc",
   "metadata": {},
   "outputs": [
    {
     "name": "stdout",
     "output_type": "stream",
     "text": [
      "Enter a binary number: 000100\n",
      "Yes\n"
     ]
    }
   ],
   "source": [
    "def checking(n):\n",
    "    ele=n[0]\n",
    "    chk=True\n",
    "    for item in n:\n",
    "        if ele != item:\n",
    "            chk = False\n",
    "            break;    \n",
    "    return chk\n",
    "        \n",
    "n=list(input(\"Enter a binary number: \"))\n",
    "for i in range(len(n)):\n",
    "    temp=n[i]\n",
    "    if n[i]=='0':\n",
    "        n[i]='1'\n",
    "    elif n[i]=='1':\n",
    "        n[i]='0'\n",
    "        \n",
    "    check=checking(n)\n",
    "    if check==True:\n",
    "        break\n",
    "    n[i]=temp\n",
    "    \n",
    "if check==True:\n",
    "    print(\"Yes\")\n",
    "else:\n",
    "    print(\"No\")"
   ]
  },
  {
   "cell_type": "code",
   "execution_count": 28,
   "id": "ad7acc02",
   "metadata": {},
   "outputs": [
    {
     "name": "stdout",
     "output_type": "stream",
     "text": [
      "Enter sequence: 13425\n",
      "['1', '3', '4', '2', '5']\n",
      "['1', '4', '2', '5', '3']\n",
      "['1', '2', '5', '3', '4']\n",
      "['1', '2', '3', '4', '5']\n",
      "Moves:  3\n"
     ]
    }
   ],
   "source": [
    "l=list(input(\"Enter sequence: \"))\n",
    "c=0\n",
    "y=0\n",
    "print(l)\n",
    "while y<len(l):\n",
    "    min=l[y]\n",
    "    val=l[y]\n",
    "    for x in range(y+1, len(l)):\n",
    "        val=l[x]\n",
    "        if val < min:\n",
    "            break\n",
    "    if val < min:\n",
    "        l.remove(min) \n",
    "        l.append(min)\n",
    "        print(l)\n",
    "        c=c+1\n",
    "    else:\n",
    "        y=y+1\n",
    "print(\"Moves: \",c)"
   ]
  },
  {
   "cell_type": "code",
   "execution_count": 104,
   "id": "1e008afb",
   "metadata": {
    "scrolled": true
   },
   "outputs": [
    {
     "name": "stdout",
     "output_type": "stream",
     "text": [
      "Enter value of n: 6\n",
      "1 \n",
      "2 2 \n",
      "3 3 3 \n",
      "4 4 4 4 \n",
      "5 5 5 5 5 \n",
      "6 6 6 6 6 6 \n"
     ]
    }
   ],
   "source": [
    "n=int(input(\"Enter value of n: \"))\n",
    "for i in range(1,n+1):\n",
    "    for j in range(i):\n",
    "        print(i,end=\" \")\n",
    "    print()"
   ]
  },
  {
   "cell_type": "code",
   "execution_count": 3,
   "id": "b8154d5c",
   "metadata": {},
   "outputs": [
    {
     "name": "stdout",
     "output_type": "stream",
     "text": [
      "{'Apple': 1, 'Orange': 2, 'Mango': 3}\n"
     ]
    }
   ],
   "source": [
    "lst1=[\"Apple\",\"Orange\",\"Mango\"]\n",
    "lst2=[1,2,3]\n",
    "#lst1 is key and lst 2 is value\n",
    "dic=dict((zip(lst1,lst2)))\n",
    "print(dic)"
   ]
  },
  {
   "cell_type": "code",
   "execution_count": 3,
   "id": "070210b8",
   "metadata": {},
   "outputs": [
    {
     "name": "stdout",
     "output_type": "stream",
     "text": [
      "Enter a number:100\n",
      "1\n"
     ]
    }
   ],
   "source": [
    "count=0\n",
    "n=int(input(\"Enter a number:\"))\n",
    "while(True):\n",
    "    n=n/6\n",
    "    if n<=10:\n",
    "        break\n",
    "    count=count+1\n",
    "print(count)"
   ]
  }
 ],
 "metadata": {
  "kernelspec": {
   "display_name": "Python 3 (ipykernel)",
   "language": "python",
   "name": "python3"
  },
  "language_info": {
   "codemirror_mode": {
    "name": "ipython",
    "version": 3
   },
   "file_extension": ".py",
   "mimetype": "text/x-python",
   "name": "python",
   "nbconvert_exporter": "python",
   "pygments_lexer": "ipython3",
   "version": "3.10.2"
  }
 },
 "nbformat": 4,
 "nbformat_minor": 5
}
