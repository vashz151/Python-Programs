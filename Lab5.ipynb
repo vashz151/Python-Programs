{
 "cells": [
  {
   "cell_type": "code",
   "execution_count": null,
   "metadata": {},
   "outputs": [],
   "source": [
    "LAB 5"
   ]
  },
  {
   "cell_type": "code",
   "execution_count": 5,
   "metadata": {},
   "outputs": [
    {
     "name": "stdout",
     "output_type": "stream",
     "text": [
      "Hello Everyone\n"
     ]
    }
   ],
   "source": [
    "def greetings():\n",
    "    print(\"Hello Everyone\")\n",
    "greetings()"
   ]
  },
  {
   "cell_type": "code",
   "execution_count": 19,
   "metadata": {},
   "outputs": [
    {
     "name": "stdout",
     "output_type": "stream",
     "text": [
      "2022-04-08 09:45:10.923000\n"
     ]
    }
   ],
   "source": [
    "import datetime\n",
    "def fetchdatetime():\n",
    "    cdt=datetime.datetime.now()\n",
    "    print(cdt)\n",
    "fetchdatetime()"
   ]
  },
  {
   "cell_type": "code",
   "execution_count": 1,
   "metadata": {},
   "outputs": [
    {
     "name": "stdout",
     "output_type": "stream",
     "text": [
      "Name= Vash\n",
      "None\n"
     ]
    }
   ],
   "source": [
    "def greet(name):\n",
    "    print(\"Hello \"+name)\n",
    "    greet(\"World\") \n",
    "def greet(name):\n",
    "    print(\"Name= \"+name) #none will be returned as there is no return stattement\n",
    "print(greet(\"Vash\"))\n"
   ]
  },
  {
   "cell_type": "code",
   "execution_count": 2,
   "metadata": {},
   "outputs": [
    {
     "name": "stdout",
     "output_type": "stream",
     "text": [
      "5\n",
      "6\n",
      "0\n"
     ]
    }
   ],
   "source": [
    "def absolute(i):\n",
    "    if i<0:\n",
    "        i=i*-1\n",
    "    return i\n",
    "print(absolute(5))\n",
    "print(absolute(-6))\n",
    "print(absolute(0))"
   ]
  },
  {
   "cell_type": "code",
   "execution_count": 16,
   "metadata": {},
   "outputs": [
    {
     "name": "stdout",
     "output_type": "stream",
     "text": [
      "18\n",
      "19\n",
      "28\n",
      "17\n"
     ]
    }
   ],
   "source": [
    "#default arguments should always follow positional argument\n",
    "def add(x,y=5,Z=8):\n",
    "    print(x+y+Z)\n",
    "add(5)\n",
    "add(5,6) #default argument\n",
    "add(y=5,x=15) #keyword argument\n",
    "add(x=4)"
   ]
  },
  {
   "cell_type": "code",
   "execution_count": 20,
   "metadata": {},
   "outputs": [
    {
     "name": "stdout",
     "output_type": "stream",
     "text": [
      "Vashisth Zatakia\n"
     ]
    }
   ],
   "source": [
    "def set_string(s):\n",
    "    s=\"Zatakia\"\n",
    "    return s\n",
    "def add(s):\n",
    "    s=s+set_string(\"\")\n",
    "    return s\n",
    "print(add(\"Vashisth \"))"
   ]
  },
  {
   "cell_type": "code",
   "execution_count": 25,
   "metadata": {},
   "outputs": [
    {
     "name": "stdout",
     "output_type": "stream",
     "text": [
      "List is: \n",
      "Apple\n",
      "Mango\n",
      "Orange\n"
     ]
    }
   ],
   "source": [
    "def printlis(fruits):\n",
    "    print(\"List is: \")\n",
    "    for f in fruits:\n",
    "        print(f)\n",
    "fruits=[\"Apple\",\"Mango\",\"Orange\"]\n",
    "printlis(fruits)"
   ]
  },
  {
   "cell_type": "code",
   "execution_count": 39,
   "metadata": {},
   "outputs": [
    {
     "name": "stdout",
     "output_type": "stream",
     "text": [
      "Dictionary is: \n",
      "Apple 1\n",
      "Mango 2\n",
      "Orange 3\n"
     ]
    }
   ],
   "source": [
    "def printdic(fruits):\n",
    "    print(\"Dictionary is: \")\n",
    "    for k,v in fruits.items():\n",
    "        print(k,v)\n",
    "fruits={\"Apple\":1,\"Mango\":2,\"Orange\":3}\n",
    "printdic(fruits)"
   ]
  },
  {
   "cell_type": "code",
   "execution_count": 40,
   "metadata": {},
   "outputs": [
    {
     "name": "stdout",
     "output_type": "stream",
     "text": [
      "15\n"
     ]
    }
   ],
   "source": [
    "#if we need variable \n",
    "def add(*numbers):\n",
    "    accum=0\n",
    "    for i in numbers:\n",
    "        accum+=i\n",
    "    return accum\n",
    "print(add(1,2,3,4,5))"
   ]
  },
  {
   "cell_type": "code",
   "execution_count": 45,
   "metadata": {},
   "outputs": [
    {
     "name": "stdout",
     "output_type": "stream",
     "text": [
      "<class 'dict'>\n",
      "Dictionary is:  {'Apple': 1, 'Mango': 2, 'Orange': 3}\n"
     ]
    }
   ],
   "source": [
    "def printdic(**fruits):\n",
    "    print(type(fruits))\n",
    "    print(\"Dictionary is: \",fruits) \n",
    "printdic(Apple=1,Mango=2,Orange=3)"
   ]
  },
  {
   "cell_type": "code",
   "execution_count": 50,
   "metadata": {},
   "outputs": [
    {
     "name": "stdout",
     "output_type": "stream",
     "text": [
      "arg is:  ('Hello', 'World', '!!!')\n",
      "arg 1 is:  {'ans': '1', 'anss': '2', 'ansss': '3'}\n"
     ]
    }
   ],
   "source": [
    "def myfun(*arg,**arg1):\n",
    "    print(\"arg is: \" ,arg)\n",
    "    print(\"arg 1 is: \",arg1)\n",
    "    \n",
    "myfun('Hello','World','!!!',ans= \"1\", anss= \"2\",ansss= '3')"
   ]
  },
  {
   "cell_type": "code",
   "execution_count": 52,
   "metadata": {},
   "outputs": [
    {
     "name": "stdout",
     "output_type": "stream",
     "text": [
      "Cube of given number=  125\n"
     ]
    }
   ],
   "source": [
    "lamb=lambda x:x**3\n",
    "print(\"Cube of given number= \",lamb(5))"
   ]
  },
  {
   "cell_type": "code",
   "execution_count": 53,
   "metadata": {},
   "outputs": [
    {
     "name": "stdout",
     "output_type": "stream",
     "text": [
      "[2, 4, 6, 8, 10]\n"
     ]
    }
   ],
   "source": [
    "#to find even number from list\n",
    "lst=[1,2,3,4,5,6,7,8,9,10]\n",
    "nlst=list(filter(lambda x:x%2 ==0,lst))\n",
    "print(nlst)"
   ]
  },
  {
   "cell_type": "code",
   "execution_count": 62,
   "metadata": {},
   "outputs": [
    {
     "name": "stdout",
     "output_type": "stream",
     "text": [
      "[4, 12, 20, 28, 36]\n"
     ]
    }
   ],
   "source": [
    "def odd(l):\n",
    "    if l%2 !=0:\n",
    "        return True\n",
    "    else: \n",
    "        return False\n",
    "nlst=list(map(lambda x:x*4,filter(odd,lst)))\n",
    "print(nlst)"
   ]
  },
  {
   "cell_type": "code",
   "execution_count": 66,
   "metadata": {},
   "outputs": [
    {
     "name": "stdout",
     "output_type": "stream",
     "text": [
      "Sum is:  28\n"
     ]
    }
   ],
   "source": [
    "import functools\n",
    "l=[1,2,3,4,5,6,7]\n",
    "#using reduce\n",
    "print('Sum is: ',functools.reduce(lambda a,b:a+b, l))"
   ]
  },
  {
   "cell_type": "code",
   "execution_count": 70,
   "metadata": {},
   "outputs": [
    {
     "name": "stdout",
     "output_type": "stream",
     "text": [
      "Max is:  7\n"
     ]
    }
   ],
   "source": [
    "import functools\n",
    "l=[1,2,3,4,5,6,7]\n",
    "#using reduce\n",
    "print('Max is: ',functools.reduce(lambda a,b: a if a>b else b, l))"
   ]
  },
  {
   "cell_type": "code",
   "execution_count": 75,
   "metadata": {},
   "outputs": [
    {
     "name": "stdout",
     "output_type": "stream",
     "text": [
      "IT\n",
      "IT Department\n"
     ]
    }
   ],
   "source": [
    "def f1():\n",
    "    print(s)\n",
    "s=\"IT\"\n",
    "def f():\n",
    "    global s\n",
    "    s+=\" Department\"\n",
    "    print(s)\n",
    "f1()\n",
    "f()"
   ]
  },
  {
   "cell_type": "code",
   "execution_count": 81,
   "metadata": {},
   "outputs": [
    {
     "name": "stdout",
     "output_type": "stream",
     "text": [
      "<class 'function'>\n",
      "<class 'function'>\n",
      "81\n"
     ]
    }
   ],
   "source": [
    "def sq(f,x):\n",
    "    print(type(f))\n",
    "    y=x**2\n",
    "    return fx(y)\n",
    "def fx(x):\n",
    "    return x**2\n",
    "calc=sq(f,2)\n",
    "y=sq\n",
    "calc=y(f,3)\n",
    "print(calc)"
   ]
  },
  {
   "cell_type": "code",
   "execution_count": 83,
   "metadata": {},
   "outputs": [
    {
     "name": "stdout",
     "output_type": "stream",
     "text": [
      "HELLO\n",
      "hello\n"
     ]
    }
   ],
   "source": [
    "#passing the function as an argument\n",
    "def s(text):\n",
    "    return text.upper()\n",
    "def g(t):\n",
    "    return t.lower()\n",
    "def greet(func):\n",
    "    print(func(\"Hello\"))\n",
    "greet(s)\n",
    "greet(g)"
   ]
  },
  {
   "cell_type": "code",
   "execution_count": 88,
   "metadata": {},
   "outputs": [
    {
     "name": "stdout",
     "output_type": "stream",
     "text": [
      "<function create_adder.<locals>.adder at 0x38b0690>\n",
      "25\n"
     ]
    }
   ],
   "source": [
    "#calling function from a function\n",
    "\n",
    "def create_adder(x):\n",
    "    def adder(y):\n",
    "        return x+y\n",
    "    return adder\n",
    "add=create_adder(10)\n",
    "print(add)\n",
    "print(add(15))"
   ]
  },
  {
   "cell_type": "code",
   "execution_count": 1,
   "metadata": {},
   "outputs": [
    {
     "name": "stdout",
     "output_type": "stream",
     "text": [
      "Recurssion example:\n"
     ]
    }
   ],
   "source": [
    "def rec(k):\n",
    "    if k>0:\n",
    "        res=k+rec(k-1)\n",
    "        print(res)\n",
    "    else: res=0\n",
    "    return res\n",
    "print(\"Recurssion example:\",)\n"
   ]
  },
  {
   "cell_type": "code",
   "execution_count": 3,
   "metadata": {},
   "outputs": [
    {
     "name": "stdout",
     "output_type": "stream",
     "text": [
      "Factorial:  24\n"
     ]
    }
   ],
   "source": [
    "def fact(k):\n",
    "    if k==0:\n",
    "        return 1\n",
    "    else:\n",
    "        return k*fact(k-1)\n",
    "print(\"Factorial: \",fact(4))"
   ]
  },
  {
   "cell_type": "markdown",
   "metadata": {},
   "source": [
    "Practical Questions"
   ]
  },
  {
   "cell_type": "code",
   "execution_count": 5,
   "metadata": {},
   "outputs": [
    {
     "name": "stdout",
     "output_type": "stream",
     "text": [
      "Enter a number:13\n",
      "13 is a prime number\n"
     ]
    }
   ],
   "source": [
    "# WA Python function to check if a given number is prime or not\n",
    "def prime(num):\n",
    "    if num > 1:\n",
    "        for i in range(2, int(num/2)+1):\n",
    "            if (num % i) == 0:\n",
    "                print(num, \"is not a prime number\")\n",
    "                break\n",
    "        else:\n",
    "            print(num, \"is a prime number\")\n",
    "    else:\n",
    "        print(num, \"is not a prime number\")\n",
    "num=int(input(\"Enter a number:\"))\n",
    "prime(num)"
   ]
  },
  {
   "cell_type": "code",
   "execution_count": 8,
   "metadata": {},
   "outputs": [
    {
     "name": "stdout",
     "output_type": "stream",
     "text": [
      "Enter Two Numbers: \n",
      "5\n",
      "10\n",
      "Enter the Operator (+,-,*,/): \n",
      "+\n",
      "\n",
      "5 + 10 = 15\n"
     ]
    }
   ],
   "source": [
    "# WA Python single function that returns the result of addition, subtraction, multiplication, division\n",
    "def arithmetic():\n",
    "    if ch=='+':\n",
    "        print(\"\\n\" +str(nOne)+ \" + \" +str(nTwo)+ \" = \" +str(nOne+nTwo))\n",
    "    elif ch=='-':\n",
    "        print(\"\\n\" +str(nOne)+ \" - \" +str(nTwo)+ \" = \" +str(nOne-nTwo))\n",
    "    elif ch=='*':\n",
    "        print(\"\\n\" +str(nOne)+ \" * \" +str(nTwo)+ \" = \" +str(nOne*nTwo))\n",
    "    elif ch=='/':\n",
    "        print(\"\\n\" +str(nOne)+ \" / \" +str(nTwo)+ \" = \" +str(nOne/nTwo))\n",
    "    else:\n",
    "        print(\"\\nInvalid Operator!\")\n",
    "print(\"Enter Two Numbers: \")\n",
    "nOne = int(input())\n",
    "nTwo = int(input())\n",
    "print(\"Enter the Operator (+,-,*,/): \")\n",
    "ch = input()\n",
    "arithmetic()"
   ]
  },
  {
   "cell_type": "code",
   "execution_count": 10,
   "metadata": {},
   "outputs": [
    {
     "name": "stdout",
     "output_type": "stream",
     "text": [
      "Sum of Square of List of numbers:  55\n"
     ]
    }
   ],
   "source": [
    "#WAPP to find sum of squares of list of numbers using calling a function from another function\n",
    "def square(x):\n",
    "    return x*x\n",
    "def sumOfSquare(lst,n):\n",
    "    sum=0\n",
    "    for i in range(n):\n",
    "        sum+=square(lst[i])\n",
    "    return sum\n",
    "lst=[1,2,3,4,5]\n",
    "n=len(lst)\n",
    "print(\"Sum of Square of List of numbers: \",sumOfSquare(lst,n))"
   ]
  },
  {
   "cell_type": "code",
   "execution_count": 13,
   "metadata": {},
   "outputs": [
    {
     "name": "stdout",
     "output_type": "stream",
     "text": [
      "Sum: 8\n",
      "Sum: 22\n",
      "Sum: 17\n"
     ]
    }
   ],
   "source": [
    "# WA python function to demonstrate passing a variable number of arguments\n",
    "def add(*num):\n",
    "    sum = 0\n",
    "    for n in num:\n",
    "        sum = sum + n\n",
    "    print(\"Sum:\",sum)\n",
    "    \n",
    "add(3,5)\n",
    "add(4,5,6,7)\n",
    "add(1,2,3,5,6)"
   ]
  },
  {
   "cell_type": "code",
   "execution_count": 14,
   "metadata": {},
   "outputs": [
    {
     "name": "stdout",
     "output_type": "stream",
     "text": [
      "Enter number of disks4\n",
      "Move disk 1 from source A to destination C\n",
      "Move disk 2 from source A to destination B\n",
      "Move disk 1 from source C to destination B\n",
      "Move disk 3 from source A to destination C\n",
      "Move disk 1 from source B to destination A\n",
      "Move disk 2 from source B to destination C\n",
      "Move disk 1 from source A to destination C\n",
      "Move disk 4 from source A to destination B\n",
      "Move disk 1 from source C to destination B\n",
      "Move disk 2 from source C to destination A\n",
      "Move disk 1 from source B to destination A\n",
      "Move disk 3 from source C to destination B\n",
      "Move disk 1 from source A to destination C\n",
      "Move disk 2 from source A to destination B\n",
      "Move disk 1 from source C to destination B\n"
     ]
    }
   ],
   "source": [
    "# WA python recursive function to solve towers of Hanoi problem\n",
    "def TowerOfHanoi(n , source, destination, auxiliary):\n",
    "    if n==1:\n",
    "        print (\"Move disk 1 from source\",source,\"to destination\",destination)\n",
    "        return\n",
    "    TowerOfHanoi(n-1, source, auxiliary, destination)\n",
    "    print (\"Move disk\",n,\"from source\",source,\"to destination\",destination)\n",
    "    TowerOfHanoi(n-1, auxiliary, destination, source)\n",
    "         \n",
    "n= int(input(\"Enter number of disks\"))\n",
    "TowerOfHanoi(n,'A','B','C')\n"
   ]
  },
  {
   "cell_type": "code",
   "execution_count": 11,
   "metadata": {},
   "outputs": [
    {
     "name": "stdout",
     "output_type": "stream",
     "text": [
      "Enter value of n: 10\n",
      "Fibonacci sequence:\n",
      "0\n",
      "1\n",
      "1\n",
      "2\n",
      "3\n",
      "5\n",
      "8\n",
      "13\n",
      "21\n",
      "34\n"
     ]
    }
   ],
   "source": [
    "#WAPP  to Display Fibonacci Sequence Using Recursion\n",
    "def fibo(n):  \n",
    "    if n <= 1:  \n",
    "        return n  \n",
    "    else:  \n",
    "        return(fibo(n-1) + fibo(n-2))  \n",
    "    \n",
    "nterms = int(input(\"Enter value of n: \"))   \n",
    "print(\"Fibonacci sequence:\")  \n",
    "for i in range(nterms):  \n",
    "    print(fibo(i)) "
   ]
  },
  {
   "cell_type": "code",
   "execution_count": 21,
   "metadata": {},
   "outputs": [
    {
     "name": "stdout",
     "output_type": "stream",
     "text": [
      "Enter a number: 3\n",
      "Number after tripling:  9\n"
     ]
    }
   ],
   "source": [
    "#WAPP to make a function that always triples the number you send in using lambda\n",
    "n=int(input(\"Enter a number: \"))\n",
    "triple=lambda x:x*3\n",
    "print(\"Number after tripling: \",triple(n))"
   ]
  },
  {
   "cell_type": "code",
   "execution_count": 20,
   "metadata": {},
   "outputs": [
    {
     "name": "stdout",
     "output_type": "stream",
     "text": [
      "After doubling: [2, 4, 6, 8, 10]\n"
     ]
    }
   ],
   "source": [
    "#WAPP to double all numbers using map()\n",
    "lst=[1,2,3,4,5]\n",
    "lst1=list(map(lambda x:x*2, lst))\n",
    "print(\"After doubling:\",lst1)"
   ]
  },
  {
   "cell_type": "code",
   "execution_count": 22,
   "metadata": {},
   "outputs": [
    {
     "name": "stdout",
     "output_type": "stream",
     "text": [
      "Required output:  120\n"
     ]
    }
   ],
   "source": [
    "#WAPP to a pre-defined function product which return the product of 2 numbers passed into it & is used as an argument in the reduce function which is passed along with a list of numbers\n",
    "from functools import reduce\n",
    "def product(n1,n2):\n",
    "    return n1*n2\n",
    "lst=[1,2,3,4,5]\n",
    "lst1= reduce(product,lst)\n",
    "print(\"Required output: \",lst1)"
   ]
  },
  {
   "cell_type": "code",
   "execution_count": 37,
   "metadata": {},
   "outputs": [
    {
     "name": "stdout",
     "output_type": "stream",
     "text": [
      "[1, 2, 3, 4, 5, 6, 7, 8, 9, 10, 11, 12, 13, 14, 15, 16, 17, 18, 19, 20, 21, 22, 23, 24, 25, 26, 27, 28, 29, 30, 31, 32, 33, 34, 35, 36, 37, 38, 39, 40, 41, 42, 43, 44, 45, 46, 47, 48, 49, 50, 51, 52, 53, 54, 55, 56, 57, 58, 59, 60, 61, 62, 63, 64, 65, 66, 67, 68, 69, 70, 71, 72, 73, 74, 75, 76, 77, 78, 79, 80]\n",
      "\n",
      "After doing the required changes\n",
      "Output is as follows: \n",
      "\n",
      "[1, 2, 'Fizz', 4, 'Buzz', 'Fizz', 7, 8, 'Fizz', 'Buzz', 11, 'Fizz', 13, 14, 'FizzBuzz', 16, 17, 'Fizz', 19, 'Buzz', 'Fizz', 22, 23, 'Fizz', 'Buzz', 26, 'Fizz', 28, 29, 'FizzBuzz', 31, 32, 'Fizz', 34, 'Buzz', 'Fizz', 37, 38, 'Fizz', 'Buzz', 41, 'Fizz', 43, 44, 'FizzBuzz', 46, 47, 'Fizz', 49, 'Buzz', 'Fizz', 52, 53, 'Fizz', 'Buzz', 56, 'Fizz', 58, 59, 'FizzBuzz', 61, 62, 'Fizz', 64, 'Buzz', 'Fizz', 67, 68, 'Fizz', 'Buzz', 71, 'Fizz', 73, 74, 'FizzBuzz', 76, 77, 'Fizz', 79, 'Buzz']\n"
     ]
    }
   ],
   "source": [
    "#Write a Python program which iterates the integers from 1 to 80. For multiples of three print \"Fizz\" instead of the number and for the multiples of five print \"Buzz\". For numbers which are multiples of both three and five print \"FizzBuzz\".\n",
    "def output(lst):\n",
    "    for i in range(len(lst)):\n",
    "        if(lst[i]%3==0 and lst[i]%5==0):\n",
    "            lst[i]=\"FizzBuzz\"\n",
    "        elif(lst[i]%3==0):\n",
    "            lst[i]=\"Fizz\"\n",
    "        elif(lst[i]%5==0):\n",
    "            lst[i]=\"Buzz\"\n",
    "lst=[]\n",
    "for i in range(1,81):\n",
    "    lst.append(i)\n",
    "    \n",
    "    \n",
    "print(lst)\n",
    "print()\n",
    "print(\"After doing the required changes\\nOutput is as follows: \\n\")\n",
    "output(lst)\n",
    "print(lst)\n",
    "        "
   ]
  }
 ],
 "metadata": {
  "kernelspec": {
   "display_name": "Python 3 (ipykernel)",
   "language": "python",
   "name": "python3"
  },
  "language_info": {
   "codemirror_mode": {
    "name": "ipython",
    "version": 3
   },
   "file_extension": ".py",
   "mimetype": "text/x-python",
   "name": "python",
   "nbconvert_exporter": "python",
   "pygments_lexer": "ipython3",
   "version": "3.10.2"
  }
 },
 "nbformat": 4,
 "nbformat_minor": 4
}
